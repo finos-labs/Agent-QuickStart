{
  "cells": [
    {
      "cell_type": "markdown",
      "metadata": {},
      "source": [
        "# LangGraph Agent Example: Reflexive Metacognitive Financial Advisor\n",
        "\n",
        "Welcome to an advanced implementation of a **Reflexive Metacognitive Financial Agent** using LangGraph and Scaleway's AI infrastructure. This architecture demonstrates how to build a self-aware financial advisor that can reason about its own capabilities, confidence levels, and limitations before providing financial guidance.\n",
        "\n",
        "This agent maintains an explicit **\"self-model\"** - a structured representation of its financial knowledge, available tools, and ethical boundaries. When faced with a financial query, it performs a metacognitive analysis to determine the safest and most appropriate response strategy.\n",
        "\n",
        "The agent asks itself critical questions like:\n",
        "- \"Do I have sufficient expertise to provide guidance on this financial topic?\"\n",
        "- \"Is this query within my designated area of financial knowledge?\"\n",
        "- \"Do I have appropriate tools to analyze this financial scenario accurately?\"\n",
        "- \"Is this a high-stakes financial decision where incorrect advice could cause significant harm?\"\n",
        "\n",
        "Based on these assessments, it chooses between direct reasoning, specialized tool usage, or escalation to qualified financial professionals when the request exceeds its safe operating boundaries.\n",
        "\n",
        "This Financial Advisory Assistant demonstrates the critical importance of AI safety and responsibility in financial domains, where poor advice can have serious real-world consequences.\n"
      ]
    },
    {
      "cell_type": "markdown",
      "metadata": {},
      "source": [
        "## Definition\n",
        "A **Reflexive Metacognitive Financial Agent** is an AI system that maintains explicit awareness of its financial knowledge boundaries, confidence levels, and ethical responsibilities. It uses this self-model to select the most appropriate and safe response strategy for each financial query.\n",
        "\n",
        "## High-level Workflow\n",
        "\n",
        "1. Perceive Financial Query: The agent receives a user's financial question or request.\n",
        "2. Metacognitive Analysis: The agent analyzes the query against its self-model, assessing confidence, risk level, and regulatory considerations.\n",
        "3. Strategy Selection: Based on the analysis, the agent selects one of several strategies:\n",
        "   - Reason Directly: For general financial education within its knowledge base.\n",
        "   - Use Financial Tool: When specialized analysis tools are required and appropriate.\n",
        "   - Escalate/Refuse: For personalized advice, high-risk decisions, or regulated investment recommendations.\n",
        "4. Execute Strategy: The chosen approach is implemented with appropriate disclaimers.\n",
        "5. Respond: The agent provides educational information, tool-assisted analysis, or professional referral guidance.\n",
        "\n",
        "## When to Use / Applications\n",
        "- Financial Education Platforms: Systems that provide general financial literacy information while knowing when to refer users to professionals.\n",
        "- Robo-Advisory Preprocessing: Initial assessment layers that determine if queries require human advisor intervention.\n",
        "- Corporate Financial Assistants: Internal tools that help employees with benefits and basic financial planning while maintaining compliance.\n"
      ]
    },
    {
      "cell_type": "markdown",
      "metadata": {},
      "source": [
        "## Phase 0: Foundation & Setup\n",
        "\n",
        "Setting up the environment with LangChain, LangGraph, and model provider integration.\n"
      ]
    },
    {
      "cell_type": "code",
      "execution_count": 1,
      "metadata": {},
      "outputs": [
        {
          "name": "stdout",
          "output_type": "stream",
          "text": [
            "Environment setup complete.\n"
          ]
        }
      ],
      "source": [
        "import os\n",
        "from typing import List, Dict, Any, Optional, Annotated\n",
        "from dotenv import load_dotenv\n",
        "\n",
        "# Pydantic for data modeling\n",
        "from pydantic import BaseModel, Field\n",
        "\n",
        "# LangChain components\n",
        "from langchain_openai import ChatOpenAI\n",
        "from langchain_core.messages import BaseMessage, HumanMessage, AIMessage, SystemMessage\n",
        "from langchain_core.prompts import ChatPromptTemplate\n",
        "\n",
        "# LangGraph components\n",
        "from langgraph.graph import StateGraph, END, START\n",
        "from typing_extensions import TypedDict\n",
        "\n",
        "# For pretty printing\n",
        "from rich.console import Console\n",
        "from rich.markdown import Markdown\n",
        "from rich.panel import Panel\n",
        "\n",
        "print(\"Environment setup complete.\")"
      ]
    },
    {
      "cell_type": "markdown",
      "metadata": {},
      "source": [
        "Define Environment Variables"
      ]
    },
    {
      "cell_type": "code",
      "execution_count": 2,
      "metadata": {},
      "outputs": [
        {
          "name": "stdout",
          "output_type": "stream",
          "text": [
            "Environment variables loaded.\n"
          ]
        }
      ],
      "source": [
        "# Load environment variables\n",
        "load_dotenv()\n",
        "\n",
        "# Environment variables for local LM studio inference\n",
        "model = \"qwen/qwen3-8b\"\n",
        "base_url = \"http://127.0.0.1:1234/v1\"\n",
        "api_key = \"\"\n",
        "\n",
        "# Environment variables for Google GenAI API inference\n",
        "google_api_key = os.getenv(\"GOOGLE_API_KEY\", \"\")\n",
        "google_model = \"gemini-2.5-flash\"\n",
        "google_model_eval = \"gemini-2.5-pro\"\n",
        "\n",
        "# Environment variables for Scaleway GenAI API inference\n",
        "scw_project_id = os.getenv(\"SCW_DEFAULT_PROJECT_ID\", \"\")\n",
        "scw_url = \"https://api.scaleway.ai/\" + scw_project_id + \"/v1\"\n",
        "scw_api_key = os.getenv(\"SCW_SECRET_KEY\", \"\")\n",
        "scw_model = \"qwen3-235b-a22b-instruct-2507\"\n",
        "\n",
        "print(\"Environment variables loaded.\")"
      ]
    },
    {
      "cell_type": "code",
      "execution_count": 5,
      "metadata": {},
      "outputs": [
        {
          "name": "stdout",
          "output_type": "stream",
          "text": [
            "Connection successful\n"
          ]
        }
      ],
      "source": [
        "# Initialize the console for rich output  \n",
        "console = Console()\n",
        "\n",
        "# Create ChatOpenAI instance pointing to Scaleway\n",
        "llm = ChatOpenAI(\n",
        "    model=scw_model,\n",
        "    temperature=0.0,\n",
        "    max_tokens=1024,\n",
        "    openai_api_key=scw_api_key,\n",
        "    openai_api_base=scw_url,\n",
        ")\n",
        "\n",
        "test_response = llm.invoke(\"Hello! Please respond with 'Connection successful' if you can hear me.\")\n",
        "print(test_response.content)"
      ]
    },
    {
      "cell_type": "markdown",
      "metadata": {},
      "source": [
        "## Phase 1: Defining the Financial Agent's Self-Model and Tools\n",
        "\n",
        "The foundation of our metacognitive financial agent lies in its structured self-awareness. We define an explicit `AgentSelfModel` that captures the agent's financial knowledge boundaries, available tools, and ethical constraints. This model guides the agent's decision-making process and ensures responsible financial guidance.\n"
      ]
    },
    {
      "cell_type": "code",
      "execution_count": 6,
      "metadata": {},
      "outputs": [
        {
          "data": {
            "text/html": [
              "<pre style=\"white-space:pre;overflow-x:auto;line-height:normal;font-family:Menlo,'DejaVu Sans Mono',consolas,'Courier New',monospace\">╭─────────────────────────────────────────────── <span style=\"color: #000080; text-decoration-color: #000080\">Self-Model Status</span> ───────────────────────────────────────────────╮\n",
              "│ ✅ Financial Agent Self-Model defined successfully                                                              │\n",
              "╰─────────────────────────────────────────────────────────────────────────────────────────────────────────────────╯\n",
              "</pre>\n"
            ],
            "text/plain": [
              "╭─────────────────────────────────────────────── \u001b[34mSelf-Model Status\u001b[0m ───────────────────────────────────────────────╮\n",
              "│ ✅ Financial Agent Self-Model defined successfully                                                              │\n",
              "╰─────────────────────────────────────────────────────────────────────────────────────────────────────────────────╯\n"
            ]
          },
          "metadata": {},
          "output_type": "display_data"
        }
      ],
      "source": [
        "# --- Financial Agent's Self-Model ---\n",
        "class FinancialAgentSelfModel(BaseModel):\n",
        "    \"\"\"A structured representation of the financial agent's capabilities and ethical boundaries.\"\"\"\n",
        "    name: str\n",
        "    role: str\n",
        "    # Financial knowledge domains where the agent can provide educational information\n",
        "    knowledge_domains: List[str] = Field(description=\"List of financial topics the agent is knowledgeable about.\")\n",
        "    # Available analytical tools\n",
        "    available_tools: List[str] = Field(description=\"List of financial analysis tools the agent can use.\")\n",
        "    # Confidence threshold for escalation\n",
        "    confidence_threshold: float = Field(description=\"The confidence level (0-1) below which the agent must escalate.\", default=0.7)\n",
        "    # Regulatory boundaries - what the agent must NOT do\n",
        "    prohibited_activities: List[str] = Field(description=\"List of activities the agent must not perform to maintain compliance.\")\n",
        "\n",
        "# Instantiate the self-model for our Financial Advisory Agent\n",
        "financial_agent_model = FinancialAgentSelfModel(\n",
        "    name=\"FinanceWise Assistant\",\n",
        "    role=\"An educational AI assistant for general financial literacy and basic analysis.\",\n",
        "    knowledge_domains=[\n",
        "        \"budgeting_basics\",\n",
        "        \"savings_accounts\", \n",
        "        \"debt_management\",\n",
        "        \"basic_investing_concepts\",\n",
        "        \"retirement_planning_education\",\n",
        "        \"insurance_fundamentals\",\n",
        "        \"credit_scores\",\n",
        "        \"emergency_funds\"\n",
        "    ],\n",
        "    available_tools=[\n",
        "        \"basic_portfolio_analyzer\",\n",
        "        \"debt_payoff_calculator\", \n",
        "        \"compound_interest_calculator\"\n",
        "    ],\n",
        "    prohibited_activities=[\n",
        "        \"personalized_investment_advice\",\n",
        "        \"specific_stock_recommendations\", \n",
        "        \"tax_advice\",\n",
        "        \"legal_financial_advice\",\n",
        "        \"insurance_product_recommendations\",\n",
        "        \"cryptocurrency_trading_advice\",\n",
        "        \"forex_trading_strategies\",\n",
        "        \"day_trading_guidance\"\n",
        "    ]\n",
        ")\n",
        "\n",
        "console.print(Panel(\"✅ Financial Agent Self-Model defined successfully\", title=\"[blue]Self-Model Status[/blue]\"))\n"
      ]
    },
    {
      "cell_type": "code",
      "execution_count": 7,
      "metadata": {},
      "outputs": [
        {
          "data": {
            "text/html": [
              "<pre style=\"white-space:pre;overflow-x:auto;line-height:normal;font-family:Menlo,'DejaVu Sans Mono',consolas,'Courier New',monospace\">╭───────────────────────────────────────────────── <span style=\"color: #008080; text-decoration-color: #008080\">Tools Status</span> ──────────────────────────────────────────────────╮\n",
              "│ ✅ Financial analysis tools initialized successfully                                                            │\n",
              "╰─────────────────────────────────────────────────────────────────────────────────────────────────────────────────╯\n",
              "</pre>\n"
            ],
            "text/plain": [
              "╭───────────────────────────────────────────────── \u001b[36mTools Status\u001b[0m ──────────────────────────────────────────────────╮\n",
              "│ ✅ Financial analysis tools initialized successfully                                                            │\n",
              "╰─────────────────────────────────────────────────────────────────────────────────────────────────────────────────╯\n"
            ]
          },
          "metadata": {},
          "output_type": "display_data"
        }
      ],
      "source": [
        "# --- Specialized Financial Tools ---\n",
        "\n",
        "class BasicPortfolioAnalyzer:\n",
        "    \"\"\"A tool for basic portfolio composition analysis (educational purposes only).\"\"\"\n",
        "    \n",
        "    def analyze(self, portfolio_data: Dict[str, float]) -> str:\n",
        "        \"\"\"Analyze portfolio allocation and provide educational feedback.\"\"\"\n",
        "        total_value = sum(portfolio_data.values())\n",
        "        if total_value == 0:\n",
        "            return \"Portfolio appears to be empty. Consider starting with a diversified approach.\"\n",
        "        \n",
        "        # Calculate percentages\n",
        "        allocations = {asset: (value/total_value)*100 for asset, value in portfolio_data.items()}\n",
        "        \n",
        "        analysis = \"**Basic Portfolio Analysis (Educational Only):**\\\\n\\\\n\"\n",
        "        \n",
        "        # Show allocations\n",
        "        for asset, percentage in allocations.items():\n",
        "            analysis += f\"- {asset}: {percentage:.1f}%\\\\n\"\n",
        "        \n",
        "        # Basic educational feedback\n",
        "        stock_allocation = allocations.get('stocks', 0) + allocations.get('equities', 0)\n",
        "        bond_allocation = allocations.get('bonds', 0) + allocations.get('fixed_income', 0)\n",
        "        \n",
        "        if stock_allocation > 90:\n",
        "            analysis += \"\\\\n**Educational Note:** Very high stock allocation may indicate higher risk. Consider diversification.\"\n",
        "        elif stock_allocation < 10:\n",
        "            analysis += \"\\\\n**Educational Note:** Very low stock allocation may limit growth potential over long term.\"\n",
        "            \n",
        "        if bond_allocation > 80:\n",
        "            analysis += \"\\\\n**Educational Note:** High bond allocation typically provides stability but may limit growth.\"\n",
        "            \n",
        "        analysis += \"\\\\n\\\\n**Disclaimer:** This is educational analysis only. Consult a financial advisor for personalized advice.\"\n",
        "        return analysis\n",
        "\n",
        "class DebtPayoffCalculator:\n",
        "    \"\"\"A calculator for debt payoff scenarios (educational tool).\"\"\"\n",
        "    \n",
        "    def calculate_payoff(self, principal: float, interest_rate: float, monthly_payment: float) -> str:\n",
        "        \"\"\"Calculate debt payoff timeline and total interest.\"\"\"\n",
        "        if monthly_payment <= (principal * interest_rate / 100 / 12):\n",
        "            return \"⚠️ Monthly payment is too low to cover interest. Principal will never be paid off.\"\n",
        "        \n",
        "        months = 0\n",
        "        total_interest = 0\n",
        "        remaining_balance = principal\n",
        "        monthly_interest_rate = interest_rate / 100 / 12\n",
        "        \n",
        "        while remaining_balance > 0.01 and months < 600:  # Cap at 50 years\n",
        "            interest_payment = remaining_balance * monthly_interest_rate\n",
        "            principal_payment = min(monthly_payment - interest_payment, remaining_balance)\n",
        "            \n",
        "            total_interest += interest_payment\n",
        "            remaining_balance -= principal_payment\n",
        "            months += 1\n",
        "        \n",
        "        years = months / 12\n",
        "        \n",
        "        result = f\"**Debt Payoff Analysis (Educational):**\\\\n\\\\n\"\n",
        "        result += f\"- Original Principal: ${principal:,.2f}\\\\n\"\n",
        "        result += f\"- Monthly Payment: ${monthly_payment:,.2f}\\\\n\"\n",
        "        result += f\"- Interest Rate: {interest_rate}% APR\\\\n\"\n",
        "        result += f\"- Payoff Time: {years:.1f} years ({months} months)\\\\n\"\n",
        "        result += f\"- Total Interest Paid: ${total_interest:,.2f}\\\\n\"\n",
        "        result += f\"- Total Amount Paid: ${principal + total_interest:,.2f}\\\\n\\\\n\"\n",
        "        result += \"**Note:** This is a simplified calculation. Actual terms may vary.\"\n",
        "        \n",
        "        return result\n",
        "\n",
        "class CompoundInterestCalculator:\n",
        "    \"\"\"A calculator for compound interest projections (educational tool).\"\"\"\n",
        "    \n",
        "    def calculate_growth(self, initial_amount: float, annual_rate: float, years: int, monthly_contribution: float = 0) -> str:\n",
        "        \"\"\"Calculate compound growth over time.\"\"\"\n",
        "        monthly_rate = annual_rate / 100 / 12\n",
        "        months = years * 12\n",
        "        \n",
        "        # Calculate future value with regular contributions\n",
        "        if monthly_contribution > 0:\n",
        "            # PMT formula for annuity\n",
        "            pmt_future_value = monthly_contribution * (((1 + monthly_rate) ** months - 1) / monthly_rate)\n",
        "        else:\n",
        "            pmt_future_value = 0\n",
        "            \n",
        "        # Future value of initial amount\n",
        "        initial_future_value = initial_amount * (1 + monthly_rate) ** months\n",
        "        \n",
        "        total_future_value = initial_future_value + pmt_future_value\n",
        "        total_contributions = initial_amount + (monthly_contribution * months)\n",
        "        total_growth = total_future_value - total_contributions\n",
        "        \n",
        "        result = f\"**Compound Interest Projection (Educational):**\\\\n\\\\n\"\n",
        "        result += f\"- Initial Amount: ${initial_amount:,.2f}\\\\n\"\n",
        "        result += f\"- Annual Interest Rate: {annual_rate}%\\\\n\"\n",
        "        result += f\"- Time Period: {years} years\\\\n\"\n",
        "        result += f\"- Monthly Contribution: ${monthly_contribution:,.2f}\\\\n\\\\n\"\n",
        "        result += f\"**Results:**\\\\n\"\n",
        "        result += f\"- Total Contributions: ${total_contributions:,.2f}\\\\n\"\n",
        "        result += f\"- Total Growth: ${total_growth:,.2f}\\\\n\"\n",
        "        result += f\"- Final Value: ${total_future_value:,.2f}\\\\n\\\\n\"\n",
        "        result += \"**Disclaimer:** This projection assumes constant returns and does not account for taxes, fees, or market volatility.\"\n",
        "        \n",
        "        return result\n",
        "\n",
        "# Initialize the tools\n",
        "portfolio_analyzer = BasicPortfolioAnalyzer()\n",
        "debt_calculator = DebtPayoffCalculator()\n",
        "compound_calculator = CompoundInterestCalculator()\n",
        "\n",
        "console.print(Panel(\"✅ Financial analysis tools initialized successfully\", title=\"[cyan]Tools Status[/cyan]\"))\n"
      ]
    },
    {
      "cell_type": "markdown",
      "metadata": {},
      "source": [
        "## Phase 2: Building the Metacognitive Financial Agent with LangGraph\n",
        "\n",
        "This is where we implement the core metacognitive reasoning. The agent's first step is always **self-reflection** - analyzing the query against its self-model before deciding how to respond. This ensures responsible financial guidance and regulatory compliance.\n"
      ]
    },
    {
      "cell_type": "code",
      "execution_count": 12,
      "metadata": {},
      "outputs": [
        {
          "name": "stdout",
          "output_type": "stream",
          "text": [
            "✅ State and analysis models defined successfully\n"
          ]
        }
      ],
      "source": [
        "# Pydantic Models for structured outputs from the LLM\n",
        "from typing import Literal\n",
        "\n",
        "class FinancialMetacognitiveAnalysis(BaseModel):\n",
        "    \"\"\"The agent's self-analysis of a financial query.\"\"\"\n",
        "    confidence: float = Field(description=\"A score from 0.0 to 1.0 representing the agent's confidence in providing safe, educational information.\")\n",
        "    risk_level: Literal[\"low\", \"medium\", \"high\"] = Field(description=\"Assessment of query risk level. Must be one of: 'low', 'medium', 'high'.\")\n",
        "    strategy: Literal[\"reason_directly\", \"use_tool\", \"escalate\"] = Field(description=\"The chosen strategy. Must be one of: 'reason_directly', 'use_tool', 'escalate'.\")\n",
        "    reasoning: str = Field(description=\"A detailed justification for the chosen confidence, risk level, and strategy.\")\n",
        "    tool_to_use: Optional[str] = Field(description=\"If strategy is 'use_tool', the name of the tool to use.\", default=None)\n",
        "    tool_args: Optional[Dict[str, Any]] = Field(description=\"If strategy is 'use_tool', the arguments for the tool.\", default=None)\n",
        "    compliance_check: bool = Field(description=\"Whether the response would be compliant with financial education guidelines.\", default=True)\n",
        "\n",
        "# LangGraph State Definition\n",
        "class FinancialAgentState(TypedDict):\n",
        "    user_query: str\n",
        "    self_model: FinancialAgentSelfModel\n",
        "    metacognitive_analysis: Optional[FinancialMetacognitiveAnalysis]\n",
        "    tool_output: Optional[str]\n",
        "    final_response: str\n",
        "\n",
        "print(\"✅ State and analysis models defined successfully\")\n"
      ]
    },
    {
      "cell_type": "code",
      "execution_count": 13,
      "metadata": {},
      "outputs": [
        {
          "name": "stdout",
          "output_type": "stream",
          "text": [
            "✅ LangGraph node functions defined successfully\n"
          ]
        }
      ],
      "source": [
        "# --- LangGraph Node Functions ---\n",
        "\n",
        "def metacognitive_analysis_node(state: FinancialAgentState) -> Dict[str, Any]:\n",
        "    \"\"\"The core self-reflection node - analyzes queries for financial safety and compliance.\"\"\"\n",
        "    console.print(Panel(\"🧠 Agent performing metacognitive analysis...\", title=\"[yellow]Step: Self-Reflection[/yellow]\"))\n",
        "    \n",
        "    prompt = ChatPromptTemplate.from_template(\n",
        "        \"\"\"You are a metacognitive reasoning engine for a financial education AI assistant. Your role is to analyze user queries against the agent's capabilities and ethical boundaries to determine the safest response strategy.\n",
        "\n",
        "**Agent's Self-Model:**\n",
        "- Name: {agent_name}\n",
        "- Role: {agent_role}\n",
        "- Knowledge Domains: {knowledge_domains}\n",
        "- Available Tools: {available_tools}\n",
        "- Prohibited Activities: {prohibited_activities}\n",
        "\n",
        "**Critical Financial Safety Rules:**\n",
        "1. **ESCALATE for:** Personalized investment advice, specific stock/crypto recommendations, tax advice, legal advice, high-stakes decisions (retirement withdrawals, large investments), or anything requiring professional licensing.\n",
        "2. **USE_TOOL for:** Educational calculations, basic portfolio analysis, debt payoff scenarios - but ONLY when the query is clearly educational and the tool output will be appropriately disclaimed.  \n",
        "3. **REASON_DIRECTLY for:** General financial literacy, basic concepts, budgeting principles - but ONLY when highly confident and the information is purely educational.\n",
        "\n",
        "**Risk Assessment Guidelines:**\n",
        "- HIGH RISK: Personalized advice, specific recommendations, regulatory matters, complex financial products\n",
        "- MEDIUM RISK: Tool-based calculations that could influence financial decisions  \n",
        "- LOW RISK: General educational content with no specific recommendations\n",
        "\n",
        "**Compliance Check:** Ensure responses avoid:\n",
        "- Acting as a financial advisor\n",
        "- Making specific investment recommendations\n",
        "- Providing tax or legal advice\n",
        "- Suggesting specific financial products\n",
        "\n",
        "Analyze this query carefully: \"{query}\"\n",
        "\n",
        "Provide your analysis in the required structured format.\"\"\"\n",
        "    )\n",
        "    \n",
        "    # Use structured output with the LLM\n",
        "    structured_llm = llm.with_structured_output(FinancialMetacognitiveAnalysis)\n",
        "    chain = prompt | structured_llm\n",
        "    \n",
        "    analysis = chain.invoke({\n",
        "        \"query\": state['user_query'],\n",
        "        \"agent_name\": state['self_model'].name,\n",
        "        \"agent_role\": state['self_model'].role,\n",
        "        \"knowledge_domains\": \", \".join(state['self_model'].knowledge_domains),\n",
        "        \"available_tools\": \", \".join(state['self_model'].available_tools),\n",
        "        \"prohibited_activities\": \", \".join(state['self_model'].prohibited_activities)\n",
        "    })\n",
        "    \n",
        "    # Display analysis results\n",
        "    analysis_text = f\"[bold]Confidence:[/bold] {analysis.confidence:.2f}\\\\n\"\n",
        "    analysis_text += f\"[bold]Risk Level:[/bold] {analysis.risk_level}\\\\n\"\n",
        "    analysis_text += f\"[bold]Strategy:[/bold] {analysis.strategy}\\\\n\"\n",
        "    analysis_text += f\"[bold]Compliant:[/bold] {analysis.compliance_check}\\\\n\"\n",
        "    analysis_text += f\"[bold]Reasoning:[/bold] {analysis.reasoning}\"\n",
        "    \n",
        "    console.print(Panel(analysis_text, title=\"Metacognitive Analysis Result\"))\n",
        "    \n",
        "    return {\"metacognitive_analysis\": analysis}\n",
        "\n",
        "def reason_directly_node(state: FinancialAgentState) -> Dict[str, Any]:\n",
        "    \"\"\"Provide direct educational financial information with appropriate disclaimers.\"\"\"\n",
        "    console.print(Panel(\"📚 Providing educational financial information...\", title=\"[green]Strategy: Educational Response[/green]\"))\n",
        "    \n",
        "    prompt = ChatPromptTemplate.from_template(\n",
        "        \"\"\"You are {agent_role}. Provide helpful, educational information about the user's financial query. \n",
        "\n",
        "CRITICAL GUIDELINES:\n",
        "- Focus on financial education and general principles\n",
        "- Use clear disclaimers that this is educational content only\n",
        "- Avoid any personalized advice or specific recommendations  \n",
        "- Encourage consultation with qualified professionals for personal decisions\n",
        "- Keep information general and educational in nature\n",
        "\n",
        "Query: {query}\n",
        "\n",
        "Provide an educational response with appropriate disclaimers.\"\"\"\n",
        "    )\n",
        "    \n",
        "    chain = prompt | llm\n",
        "    response = chain.invoke({\n",
        "        \"agent_role\": state['self_model'].role,\n",
        "        \"query\": state['user_query']\n",
        "    }).content\n",
        "    \n",
        "    return {\"final_response\": response}\n",
        "\n",
        "def call_tool_node(state: FinancialAgentState) -> Dict[str, Any]:\n",
        "    \"\"\"Execute the appropriate financial analysis tool.\"\"\"\n",
        "    analysis = state['metacognitive_analysis']\n",
        "    console.print(Panel(f\"🔧 Using tool: {analysis.tool_to_use}\", title=\"[cyan]Strategy: Tool Usage[/cyan]\"))\n",
        "    \n",
        "    tool_output = \"Error: Tool not found or arguments invalid.\"\n",
        "    \n",
        "    try:\n",
        "        if analysis.tool_to_use == 'basic_portfolio_analyzer':\n",
        "            tool_output = portfolio_analyzer.analyze(analysis.tool_args.get('portfolio_data', {}))\n",
        "        elif analysis.tool_to_use == 'debt_payoff_calculator':\n",
        "            args = analysis.tool_args\n",
        "            tool_output = debt_calculator.calculate_payoff(\n",
        "                principal=args.get('principal', 0),\n",
        "                interest_rate=args.get('interest_rate', 0),\n",
        "                monthly_payment=args.get('monthly_payment', 0)\n",
        "            )\n",
        "        elif analysis.tool_to_use == 'compound_interest_calculator':\n",
        "            args = analysis.tool_args\n",
        "            tool_output = compound_calculator.calculate_growth(\n",
        "                initial_amount=args.get('initial_amount', 0),\n",
        "                annual_rate=args.get('annual_rate', 0),\n",
        "                years=args.get('years', 0),\n",
        "                monthly_contribution=args.get('monthly_contribution', 0)\n",
        "            )\n",
        "    except Exception as e:\n",
        "        tool_output = f\"Error using tool: {str(e)}\"\n",
        "    \n",
        "    return {\"tool_output\": tool_output}\n",
        "\n",
        "def synthesize_tool_response_node(state: FinancialAgentState) -> Dict[str, Any]:\n",
        "    \"\"\"Synthesize tool output into a comprehensive educational response.\"\"\"\n",
        "    console.print(Panel(\"📝 Synthesizing educational response from tool output...\", title=\"[cyan]Step: Synthesis[/cyan]\"))\n",
        "    \n",
        "    prompt = ChatPromptTemplate.from_template(\n",
        "        \"\"\"You are {agent_role}. You have used a financial analysis tool to provide educational information. Present this information clearly with appropriate disclaimers.\n",
        "\n",
        "CRITICAL GUIDELINES:\n",
        "- Present tool results as educational examples only\n",
        "- Include strong disclaimers about seeking professional advice\n",
        "- Emphasize that results are simplified calculations\n",
        "- Avoid suggesting this constitutes financial advice\n",
        "- Encourage users to consult financial professionals for personal decisions\n",
        "\n",
        "Original Query: {query}\n",
        "Tool Analysis: {tool_output}\n",
        "\n",
        "Provide a comprehensive educational response that includes the tool results with appropriate context and disclaimers.\"\"\"\n",
        "    )\n",
        "    \n",
        "    chain = prompt | llm\n",
        "    response = chain.invoke({\n",
        "        \"agent_role\": state['self_model'].role,\n",
        "        \"query\": state['user_query'],\n",
        "        \"tool_output\": state['tool_output']\n",
        "    }).content\n",
        "    \n",
        "    return {\"final_response\": response}\n",
        "\n",
        "def escalate_to_professional_node(state: FinancialAgentState) -> Dict[str, Any]:\n",
        "    \"\"\"Escalate to qualified financial professionals - the safety net.\"\"\"\n",
        "    console.print(Panel(\"🚨 Escalating to qualified financial professional\", title=\"[bold red]Strategy: Professional Referral[/bold red]\"))\n",
        "    \n",
        "    analysis = state['metacognitive_analysis']\n",
        "    \n",
        "    response = f\"\"\"I am an AI assistant focused on financial education, and I've determined that your query requires guidance from a qualified financial professional.\n",
        "\n",
        "**Why I'm referring you:**\n",
        "{analysis.reasoning}\n",
        "\n",
        "**For your query about:** {state['user_query'][:100]}...\n",
        "\n",
        "**I recommend consulting:**\n",
        "- A Certified Financial Planner (CFP) for comprehensive financial planning\n",
        "- A licensed investment advisor for investment-related questions  \n",
        "- A tax professional (CPA/EA) for tax-related matters\n",
        "- An attorney specializing in financial law for legal questions\n",
        "\n",
        "**Finding qualified professionals:**\n",
        "- Use the CFP Board's search tool: cfp.net/utility/find-a-cfp-professional\n",
        "- Check FINRA BrokerCheck for investment advisors: brokercheck.finra.org\n",
        "- Consult your local CPA society for tax professionals\n",
        "\n",
        "**Remember:** Professional financial advice is personalized to your specific situation, which I cannot provide. A qualified professional can give you guidance tailored to your circumstances, goals, and risk tolerance.\"\"\"\n",
        "\n",
        "    return {\"final_response\": response}\n",
        "\n",
        "# Conditional routing function\n",
        "def route_strategy(state: FinancialAgentState) -> str:\n",
        "    \"\"\"Route to the appropriate strategy based on metacognitive analysis.\"\"\"\n",
        "    strategy = state[\"metacognitive_analysis\"].strategy\n",
        "    \n",
        "    # Additional safety check - if compliance_check failed, always escalate\n",
        "    if not state[\"metacognitive_analysis\"].compliance_check:\n",
        "        console.print(Panel(\"⚠️ Compliance check failed - forcing escalation\", title=\"[red]Safety Override[/red]\"))\n",
        "        return \"escalate\"\n",
        "    \n",
        "    return strategy\n",
        "\n",
        "print(\"✅ LangGraph node functions defined successfully\")\n"
      ]
    },
    {
      "cell_type": "code",
      "execution_count": 14,
      "metadata": {},
      "outputs": [
        {
          "data": {
            "text/html": [
              "<pre style=\"white-space:pre;overflow-x:auto;line-height:normal;font-family:Menlo,'DejaVu Sans Mono',consolas,'Courier New',monospace\">╭───────────────────────────────────────────────── <span style=\"color: #000080; text-decoration-color: #000080\">Agent Status</span> ──────────────────────────────────────────────────╮\n",
              "│ ✅ Financial Metacognitive Agent graph compiled successfully                                                    │\n",
              "╰─────────────────────────────────────────────────────────────────────────────────────────────────────────────────╯\n",
              "</pre>\n"
            ],
            "text/plain": [
              "╭───────────────────────────────────────────────── \u001b[34mAgent Status\u001b[0m ──────────────────────────────────────────────────╮\n",
              "│ ✅ Financial Metacognitive Agent graph compiled successfully                                                    │\n",
              "╰─────────────────────────────────────────────────────────────────────────────────────────────────────────────────╯\n"
            ]
          },
          "metadata": {},
          "output_type": "display_data"
        },
        {
          "data": {
            "text/html": [
              "<pre style=\"white-space:pre;overflow-x:auto;line-height:normal;font-family:Menlo,'DejaVu Sans Mono',consolas,'Courier New',monospace\">╭─────────────────────────────────────────────── <span style=\"color: #000080; text-decoration-color: #000080\">Workflow Summary</span> ────────────────────────────────────────────────╮\n",
              "│ The agent workflow: Query → Metacognitive Analysis → [Route] → Response/Tool/Escalation → END                   │\n",
              "╰─────────────────────────────────────────────────────────────────────────────────────────────────────────────────╯\n",
              "</pre>\n"
            ],
            "text/plain": [
              "╭─────────────────────────────────────────────── \u001b[34mWorkflow Summary\u001b[0m ────────────────────────────────────────────────╮\n",
              "│ The agent workflow: Query → Metacognitive Analysis → [Route] → Response/Tool/Escalation → END                   │\n",
              "╰─────────────────────────────────────────────────────────────────────────────────────────────────────────────────╯\n"
            ]
          },
          "metadata": {},
          "output_type": "display_data"
        }
      ],
      "source": [
        "# --- Build the LangGraph Workflow ---\n",
        "\n",
        "# Create the StateGraph\n",
        "workflow = StateGraph(FinancialAgentState)\n",
        "\n",
        "# Add all nodes to the graph\n",
        "workflow.add_node(\"analyze\", metacognitive_analysis_node)\n",
        "workflow.add_node(\"reason\", reason_directly_node)\n",
        "workflow.add_node(\"call_tool\", call_tool_node)\n",
        "workflow.add_node(\"synthesize\", synthesize_tool_response_node)\n",
        "workflow.add_node(\"escalate\", escalate_to_professional_node)\n",
        "\n",
        "# Set the entry point\n",
        "workflow.set_entry_point(\"analyze\")\n",
        "\n",
        "# Add conditional edges from the analysis node\n",
        "workflow.add_conditional_edges(\n",
        "    \"analyze\", \n",
        "    route_strategy, \n",
        "    {\n",
        "        \"reason_directly\": \"reason\",\n",
        "        \"use_tool\": \"call_tool\",\n",
        "        \"escalate\": \"escalate\"\n",
        "    }\n",
        ")\n",
        "\n",
        "# Add edges for the tool workflow\n",
        "workflow.add_edge(\"call_tool\", \"synthesize\")\n",
        "\n",
        "# All paths lead to END\n",
        "workflow.add_edge(\"reason\", END)\n",
        "workflow.add_edge(\"synthesize\", END)\n",
        "workflow.add_edge(\"escalate\", END)\n",
        "\n",
        "# Compile the graph\n",
        "financial_metacognitive_agent = workflow.compile()\n",
        "\n",
        "console.print(Panel(\"✅ Financial Metacognitive Agent graph compiled successfully\", title=\"[blue]Agent Status[/blue]\"))\n",
        "console.print(Panel(\"The agent workflow: Query → Metacognitive Analysis → [Route] → Response/Tool/Escalation → END\", title=\"[blue]Workflow Summary[/blue]\"))\n"
      ]
    },
    {
      "cell_type": "markdown",
      "metadata": {},
      "source": [
        "## Phase 3: Demonstration & Analysis\n",
        "\n",
        "Now we'll test our metacognitive financial agent with various scenarios to demonstrate how it safely navigates different types of financial queries. Each test will show the agent's self-reflection process and how it chooses the most appropriate and responsible response strategy.\n"
      ]
    },
    {
      "cell_type": "code",
      "execution_count": 15,
      "metadata": {},
      "outputs": [
        {
          "data": {
            "text/html": [
              "<pre style=\"white-space:pre;overflow-x:auto;line-height:normal;font-family:Menlo,'DejaVu Sans Mono',consolas,'Courier New',monospace\">╭────────────────────────────────────────────── <span style=\"color: #000080; text-decoration-color: #000080\">Testing Scenario 1</span> ───────────────────────────────────────────────╮\n",
              "│ 🎯 Test 1: General Financial Education Query                                                                    │\n",
              "╰─────────────────────────────────────────────────────────────────────────────────────────────────────────────────╯\n",
              "</pre>\n"
            ],
            "text/plain": [
              "╭────────────────────────────────────────────── \u001b[34mTesting Scenario 1\u001b[0m ───────────────────────────────────────────────╮\n",
              "│ 🎯 Test 1: General Financial Education Query                                                                    │\n",
              "╰─────────────────────────────────────────────────────────────────────────────────────────────────────────────────╯\n"
            ]
          },
          "metadata": {},
          "output_type": "display_data"
        },
        {
          "data": {
            "text/html": [
              "<pre style=\"white-space:pre;overflow-x:auto;line-height:normal;font-family:Menlo,'DejaVu Sans Mono',consolas,'Courier New',monospace\">╭────────────────────────────────────────────────── <span style=\"color: #808000; text-decoration-color: #808000\">User Query</span> ───────────────────────────────────────────────────╮\n",
              "│ Query: What's the difference between a savings account and a checking account?                                  │\n",
              "╰─────────────────────────────────────────────────────────────────────────────────────────────────────────────────╯\n",
              "</pre>\n"
            ],
            "text/plain": [
              "╭────────────────────────────────────────────────── \u001b[33mUser Query\u001b[0m ───────────────────────────────────────────────────╮\n",
              "│ Query: What's the difference between a savings account and a checking account?                                  │\n",
              "╰─────────────────────────────────────────────────────────────────────────────────────────────────────────────────╯\n"
            ]
          },
          "metadata": {},
          "output_type": "display_data"
        },
        {
          "data": {
            "text/html": [
              "<pre style=\"white-space:pre;overflow-x:auto;line-height:normal;font-family:Menlo,'DejaVu Sans Mono',consolas,'Courier New',monospace\">╭───────────────────────────────────────────── <span style=\"color: #808000; text-decoration-color: #808000\">Step: Self-Reflection</span> ─────────────────────────────────────────────╮\n",
              "│ 🧠 Agent performing metacognitive analysis...                                                                   │\n",
              "╰─────────────────────────────────────────────────────────────────────────────────────────────────────────────────╯\n",
              "</pre>\n"
            ],
            "text/plain": [
              "╭───────────────────────────────────────────── \u001b[33mStep: Self-Reflection\u001b[0m ─────────────────────────────────────────────╮\n",
              "│ 🧠 Agent performing metacognitive analysis...                                                                   │\n",
              "╰─────────────────────────────────────────────────────────────────────────────────────────────────────────────────╯\n"
            ]
          },
          "metadata": {},
          "output_type": "display_data"
        },
        {
          "data": {
            "text/html": [
              "<pre style=\"white-space:pre;overflow-x:auto;line-height:normal;font-family:Menlo,'DejaVu Sans Mono',consolas,'Courier New',monospace\">╭───────────────────────────────────────── Metacognitive Analysis Result ─────────────────────────────────────────╮\n",
              "│ <span style=\"font-weight: bold\">Confidence:</span> 0.98\\n<span style=\"font-weight: bold\">Risk Level:</span> low\\n<span style=\"font-weight: bold\">Strategy:</span> reason_directly\\n<span style=\"font-weight: bold\">Compliant:</span> True\\n<span style=\"font-weight: bold\">Reasoning:</span> The query asks for a  │\n",
              "│ basic comparison between two common banking products—savings and checking accounts. This falls within the       │\n",
              "│ agent's knowledge domain of 'banking_basics' (implied under budgeting_basics and savings_accounts). The topic   │\n",
              "│ is purely educational, does not involve personalized advice, specific financial products, or regulatory         │\n",
              "│ guidance, and poses minimal risk. The agent can clearly explain functional differences, typical features, and   │\n",
              "│ general use cases without crossing into prohibited activities.                                                  │\n",
              "╰─────────────────────────────────────────────────────────────────────────────────────────────────────────────────╯\n",
              "</pre>\n"
            ],
            "text/plain": [
              "╭───────────────────────────────────────── Metacognitive Analysis Result ─────────────────────────────────────────╮\n",
              "│ \u001b[1mConfidence:\u001b[0m 0.98\\n\u001b[1mRisk Level:\u001b[0m low\\n\u001b[1mStrategy:\u001b[0m reason_directly\\n\u001b[1mCompliant:\u001b[0m True\\n\u001b[1mReasoning:\u001b[0m The query asks for a  │\n",
              "│ basic comparison between two common banking products—savings and checking accounts. This falls within the       │\n",
              "│ agent's knowledge domain of 'banking_basics' (implied under budgeting_basics and savings_accounts). The topic   │\n",
              "│ is purely educational, does not involve personalized advice, specific financial products, or regulatory         │\n",
              "│ guidance, and poses minimal risk. The agent can clearly explain functional differences, typical features, and   │\n",
              "│ general use cases without crossing into prohibited activities.                                                  │\n",
              "╰─────────────────────────────────────────────────────────────────────────────────────────────────────────────────╯\n"
            ]
          },
          "metadata": {},
          "output_type": "display_data"
        },
        {
          "data": {
            "text/html": [
              "<pre style=\"white-space:pre;overflow-x:auto;line-height:normal;font-family:Menlo,'DejaVu Sans Mono',consolas,'Courier New',monospace\">╭──────────────────────────────────────── <span style=\"color: #008000; text-decoration-color: #008000\">Strategy: Educational Response</span> ─────────────────────────────────────────╮\n",
              "│ 📚 Providing educational financial information...                                                               │\n",
              "╰─────────────────────────────────────────────────────────────────────────────────────────────────────────────────╯\n",
              "</pre>\n"
            ],
            "text/plain": [
              "╭──────────────────────────────────────── \u001b[32mStrategy: Educational Response\u001b[0m ─────────────────────────────────────────╮\n",
              "│ 📚 Providing educational financial information...                                                               │\n",
              "╰─────────────────────────────────────────────────────────────────────────────────────────────────────────────────╯\n"
            ]
          },
          "metadata": {},
          "output_type": "display_data"
        },
        {
          "data": {
            "text/html": [
              "<pre style=\"white-space:pre;overflow-x:auto;line-height:normal;font-family:Menlo,'DejaVu Sans Mono',consolas,'Courier New',monospace\">Great question! Understanding the difference between a savings account and a checking account is an important part \n",
              "of managing your personal finances. Let’s break down the key differences in a general, educational way:            \n",
              "\n",
              "<span style=\"font-weight: bold\">1. Purpose:</span>                                                                                                        \n",
              "\n",
              "<span style=\"color: #808000; text-decoration-color: #808000; font-weight: bold\"> • </span><span style=\"font-weight: bold\">Checking Account:</span> Designed for everyday transactions. It’s meant to be used frequently for activities like      \n",
              "<span style=\"color: #808000; text-decoration-color: #808000; font-weight: bold\">   </span>paying bills, making purchases with a debit card, writing checks, or withdrawing cash from ATMs.                \n",
              "<span style=\"color: #808000; text-decoration-color: #808000; font-weight: bold\"> • </span><span style=\"font-weight: bold\">Savings Account:</span> Intended for storing money you don’t plan to spend right away. It helps you set aside funds for\n",
              "<span style=\"color: #808000; text-decoration-color: #808000; font-weight: bold\">   </span>future goals, emergencies, or to earn interest over time.                                                       \n",
              "\n",
              "<span style=\"font-weight: bold\">2. Interest Earnings:</span>                                                                                              \n",
              "\n",
              "<span style=\"color: #808000; text-decoration-color: #808000; font-weight: bold\"> • </span><span style=\"font-weight: bold\">Checking Account:</span> Typically earns little to no interest. The focus is on accessibility, not growth.             \n",
              "<span style=\"color: #808000; text-decoration-color: #808000; font-weight: bold\"> • </span><span style=\"font-weight: bold\">Savings Account:</span> Usually earns interest, meaning your money can grow over time. However, interest rates vary and\n",
              "<span style=\"color: #808000; text-decoration-color: #808000; font-weight: bold\">   </span>are subject to change based on economic conditions.                                                             \n",
              "\n",
              "<span style=\"font-weight: bold\">3. Transaction Limits:</span>                                                                                             \n",
              "\n",
              "<span style=\"color: #808000; text-decoration-color: #808000; font-weight: bold\"> • </span><span style=\"font-weight: bold\">Checking Account:</span> Allows unlimited withdrawals and transactions. You can use it daily without restrictions.     \n",
              "<span style=\"color: #808000; text-decoration-color: #808000; font-weight: bold\"> • </span><span style=\"font-weight: bold\">Savings Account:</span> Federal regulations (like Regulation D in the U.S., though some rules have been modified)      \n",
              "<span style=\"color: #808000; text-decoration-color: #808000; font-weight: bold\">   </span>traditionally limited certain types of withdrawals to about six per month without fees or account conversion.   \n",
              "<span style=\"color: #808000; text-decoration-color: #808000; font-weight: bold\">   </span>Banks may still enforce similar limits.                                                                         \n",
              "\n",
              "<span style=\"font-weight: bold\">4. Access to Funds:</span>                                                                                                \n",
              "\n",
              "<span style=\"color: #808000; text-decoration-color: #808000; font-weight: bold\"> • </span><span style=\"font-weight: bold\">Checking Account:</span> Offers easy access through debit cards, checks, online banking, and ATMs.                     \n",
              "<span style=\"color: #808000; text-decoration-color: #808000; font-weight: bold\"> • </span><span style=\"font-weight: bold\">Savings Account:</span> Less focused on frequent access. While you can transfer or withdraw funds, the process may take\n",
              "<span style=\"color: #808000; text-decoration-color: #808000; font-weight: bold\">   </span>slightly longer to encourage saving behavior.                                                                   \n",
              "\n",
              "<span style=\"font-weight: bold\">5. Fees and Minimum Balances:</span>                                                                                      \n",
              "\n",
              "<span style=\"color: #808000; text-decoration-color: #808000; font-weight: bold\"> • </span>Both account types may have monthly maintenance fees, but these can often be waived if certain conditions are   \n",
              "<span style=\"color: #808000; text-decoration-color: #808000; font-weight: bold\">   </span>met (like maintaining a minimum balance or setting up direct deposit). Requirements vary by financial           \n",
              "<span style=\"color: #808000; text-decoration-color: #808000; font-weight: bold\">   </span>institution.                                                                                                    \n",
              "\n",
              "<span style=\"font-weight: bold\">Educational Note:</span>                                                                                                  \n",
              "This information is provided for general financial literacy purposes only. It does not constitute personal         \n",
              "financial advice. The features and terms of checking and savings accounts can vary significantly between banks and \n",
              "credit unions. Always review the account agreement and fee schedule provided by the financial institution.         \n",
              "\n",
              "<span style=\"font-weight: bold\">Important Disclaimer:</span>                                                                                              \n",
              "I am an AI assistant providing educational content. I do not offer personalized financial advice. For decisions    \n",
              "about which accounts are best for your situation, please consult with a qualified financial professional or your   \n",
              "financial institution.                                                                                             \n",
              "</pre>\n"
            ],
            "text/plain": [
              "Great question! Understanding the difference between a savings account and a checking account is an important part \n",
              "of managing your personal finances. Let’s break down the key differences in a general, educational way:            \n",
              "\n",
              "\u001b[1m1. Purpose:\u001b[0m                                                                                                        \n",
              "\n",
              "\u001b[1;33m • \u001b[0m\u001b[1mChecking Account:\u001b[0m Designed for everyday transactions. It’s meant to be used frequently for activities like      \n",
              "\u001b[1;33m   \u001b[0mpaying bills, making purchases with a debit card, writing checks, or withdrawing cash from ATMs.                \n",
              "\u001b[1;33m • \u001b[0m\u001b[1mSavings Account:\u001b[0m Intended for storing money you don’t plan to spend right away. It helps you set aside funds for\n",
              "\u001b[1;33m   \u001b[0mfuture goals, emergencies, or to earn interest over time.                                                       \n",
              "\n",
              "\u001b[1m2. Interest Earnings:\u001b[0m                                                                                              \n",
              "\n",
              "\u001b[1;33m • \u001b[0m\u001b[1mChecking Account:\u001b[0m Typically earns little to no interest. The focus is on accessibility, not growth.             \n",
              "\u001b[1;33m • \u001b[0m\u001b[1mSavings Account:\u001b[0m Usually earns interest, meaning your money can grow over time. However, interest rates vary and\n",
              "\u001b[1;33m   \u001b[0mare subject to change based on economic conditions.                                                             \n",
              "\n",
              "\u001b[1m3. Transaction Limits:\u001b[0m                                                                                             \n",
              "\n",
              "\u001b[1;33m • \u001b[0m\u001b[1mChecking Account:\u001b[0m Allows unlimited withdrawals and transactions. You can use it daily without restrictions.     \n",
              "\u001b[1;33m • \u001b[0m\u001b[1mSavings Account:\u001b[0m Federal regulations (like Regulation D in the U.S., though some rules have been modified)      \n",
              "\u001b[1;33m   \u001b[0mtraditionally limited certain types of withdrawals to about six per month without fees or account conversion.   \n",
              "\u001b[1;33m   \u001b[0mBanks may still enforce similar limits.                                                                         \n",
              "\n",
              "\u001b[1m4. Access to Funds:\u001b[0m                                                                                                \n",
              "\n",
              "\u001b[1;33m • \u001b[0m\u001b[1mChecking Account:\u001b[0m Offers easy access through debit cards, checks, online banking, and ATMs.                     \n",
              "\u001b[1;33m • \u001b[0m\u001b[1mSavings Account:\u001b[0m Less focused on frequent access. While you can transfer or withdraw funds, the process may take\n",
              "\u001b[1;33m   \u001b[0mslightly longer to encourage saving behavior.                                                                   \n",
              "\n",
              "\u001b[1m5. Fees and Minimum Balances:\u001b[0m                                                                                      \n",
              "\n",
              "\u001b[1;33m • \u001b[0mBoth account types may have monthly maintenance fees, but these can often be waived if certain conditions are   \n",
              "\u001b[1;33m   \u001b[0mmet (like maintaining a minimum balance or setting up direct deposit). Requirements vary by financial           \n",
              "\u001b[1;33m   \u001b[0minstitution.                                                                                                    \n",
              "\n",
              "\u001b[1mEducational Note:\u001b[0m                                                                                                  \n",
              "This information is provided for general financial literacy purposes only. It does not constitute personal         \n",
              "financial advice. The features and terms of checking and savings accounts can vary significantly between banks and \n",
              "credit unions. Always review the account agreement and fee schedule provided by the financial institution.         \n",
              "\n",
              "\u001b[1mImportant Disclaimer:\u001b[0m                                                                                              \n",
              "I am an AI assistant providing educational content. I do not offer personalized financial advice. For decisions    \n",
              "about which accounts are best for your situation, please consult with a qualified financial professional or your   \n",
              "financial institution.                                                                                             \n"
            ]
          },
          "metadata": {},
          "output_type": "display_data"
        }
      ],
      "source": [
        "def run_financial_agent(query: str):\n",
        "    \"\"\"Run the financial agent with a query and display the results.\"\"\"\n",
        "    initial_state = {\n",
        "        \"user_query\": query,\n",
        "        \"self_model\": financial_agent_model\n",
        "    }\n",
        "    \n",
        "    result = financial_metacognitive_agent.invoke(initial_state)\n",
        "    console.print(Markdown(result['final_response']))\n",
        "    return result\n",
        "\n",
        "# Test 1: General financial education (should reason directly)\n",
        "console.print(Panel(\"🎯 Test 1: General Financial Education Query\", title=\"[blue]Testing Scenario 1[/blue]\"))\n",
        "console.print(Panel(\"Query: What's the difference between a savings account and a checking account?\", title=\"[yellow]User Query[/yellow]\"))\n",
        "\n",
        "test1_result = run_financial_agent(\"What's the difference between a savings account and a checking account?\")\n"
      ]
    },
    {
      "cell_type": "code",
      "execution_count": 16,
      "metadata": {},
      "outputs": [
        {
          "data": {
            "text/html": [
              "<pre style=\"white-space:pre;overflow-x:auto;line-height:normal;font-family:Menlo,'DejaVu Sans Mono',consolas,'Courier New',monospace\">\\<span style=\"color: #808000; text-decoration-color: #808000\">n</span>============================================================\n",
              "</pre>\n"
            ],
            "text/plain": [
              "\\\u001b[33mn\u001b[0m============================================================\n"
            ]
          },
          "metadata": {},
          "output_type": "display_data"
        },
        {
          "data": {
            "text/html": [
              "<pre style=\"white-space:pre;overflow-x:auto;line-height:normal;font-family:Menlo,'DejaVu Sans Mono',consolas,'Courier New',monospace\">╭────────────────────────────────────────────── <span style=\"color: #000080; text-decoration-color: #000080\">Testing Scenario 2</span> ───────────────────────────────────────────────╮\n",
              "│ 🧮 Test 2: Educational Calculation Query                                                                        │\n",
              "╰─────────────────────────────────────────────────────────────────────────────────────────────────────────────────╯\n",
              "</pre>\n"
            ],
            "text/plain": [
              "╭────────────────────────────────────────────── \u001b[34mTesting Scenario 2\u001b[0m ───────────────────────────────────────────────╮\n",
              "│ 🧮 Test 2: Educational Calculation Query                                                                        │\n",
              "╰─────────────────────────────────────────────────────────────────────────────────────────────────────────────────╯\n"
            ]
          },
          "metadata": {},
          "output_type": "display_data"
        },
        {
          "data": {
            "text/html": [
              "<pre style=\"white-space:pre;overflow-x:auto;line-height:normal;font-family:Menlo,'DejaVu Sans Mono',consolas,'Courier New',monospace\">╭────────────────────────────────────────────────── <span style=\"color: #808000; text-decoration-color: #808000\">User Query</span> ───────────────────────────────────────────────────╮\n",
              "│ Query: If I have a $10,000 credit card debt at 18% APR and can pay $300/month, how long will it take to pay     │\n",
              "│ off?                                                                                                            │\n",
              "╰─────────────────────────────────────────────────────────────────────────────────────────────────────────────────╯\n",
              "</pre>\n"
            ],
            "text/plain": [
              "╭────────────────────────────────────────────────── \u001b[33mUser Query\u001b[0m ───────────────────────────────────────────────────╮\n",
              "│ Query: If I have a $10,000 credit card debt at 18% APR and can pay $300/month, how long will it take to pay     │\n",
              "│ off?                                                                                                            │\n",
              "╰─────────────────────────────────────────────────────────────────────────────────────────────────────────────────╯\n"
            ]
          },
          "metadata": {},
          "output_type": "display_data"
        },
        {
          "data": {
            "text/html": [
              "<pre style=\"white-space:pre;overflow-x:auto;line-height:normal;font-family:Menlo,'DejaVu Sans Mono',consolas,'Courier New',monospace\">╭───────────────────────────────────────────── <span style=\"color: #808000; text-decoration-color: #808000\">Step: Self-Reflection</span> ─────────────────────────────────────────────╮\n",
              "│ 🧠 Agent performing metacognitive analysis...                                                                   │\n",
              "╰─────────────────────────────────────────────────────────────────────────────────────────────────────────────────╯\n",
              "</pre>\n"
            ],
            "text/plain": [
              "╭───────────────────────────────────────────── \u001b[33mStep: Self-Reflection\u001b[0m ─────────────────────────────────────────────╮\n",
              "│ 🧠 Agent performing metacognitive analysis...                                                                   │\n",
              "╰─────────────────────────────────────────────────────────────────────────────────────────────────────────────────╯\n"
            ]
          },
          "metadata": {},
          "output_type": "display_data"
        },
        {
          "data": {
            "text/html": [
              "<pre style=\"white-space:pre;overflow-x:auto;line-height:normal;font-family:Menlo,'DejaVu Sans Mono',consolas,'Courier New',monospace\">╭───────────────────────────────────────── Metacognitive Analysis Result ─────────────────────────────────────────╮\n",
              "│ <span style=\"font-weight: bold\">Confidence:</span> 0.98\\n<span style=\"font-weight: bold\">Risk Level:</span> medium\\n<span style=\"font-weight: bold\">Strategy:</span> use_tool\\n<span style=\"font-weight: bold\">Compliant:</span> True\\n<span style=\"font-weight: bold\">Reasoning:</span> The query requests a      │\n",
              "│ specific debt payoff timeline based on personal financial parameters (debt amount, interest rate, monthly       │\n",
              "│ payment). This falls within the agent's educational scope and can be safely addressed using the                 │\n",
              "│ debt_payof_calculator tool. The output will be a mathematical projection, not personalized financial advice.    │\n",
              "│ However, the result could influence financial decisions, so a clear disclaimer must accompany the response      │\n",
              "│ stating that this is for educational purposes only and not professional advice. The query does not involve      │\n",
              "│ prohibited areas such as investment recommendations, tax, or legal advice.                                      │\n",
              "╰─────────────────────────────────────────────────────────────────────────────────────────────────────────────────╯\n",
              "</pre>\n"
            ],
            "text/plain": [
              "╭───────────────────────────────────────── Metacognitive Analysis Result ─────────────────────────────────────────╮\n",
              "│ \u001b[1mConfidence:\u001b[0m 0.98\\n\u001b[1mRisk Level:\u001b[0m medium\\n\u001b[1mStrategy:\u001b[0m use_tool\\n\u001b[1mCompliant:\u001b[0m True\\n\u001b[1mReasoning:\u001b[0m The query requests a      │\n",
              "│ specific debt payoff timeline based on personal financial parameters (debt amount, interest rate, monthly       │\n",
              "│ payment). This falls within the agent's educational scope and can be safely addressed using the                 │\n",
              "│ debt_payof_calculator tool. The output will be a mathematical projection, not personalized financial advice.    │\n",
              "│ However, the result could influence financial decisions, so a clear disclaimer must accompany the response      │\n",
              "│ stating that this is for educational purposes only and not professional advice. The query does not involve      │\n",
              "│ prohibited areas such as investment recommendations, tax, or legal advice.                                      │\n",
              "╰─────────────────────────────────────────────────────────────────────────────────────────────────────────────────╯\n"
            ]
          },
          "metadata": {},
          "output_type": "display_data"
        },
        {
          "data": {
            "text/html": [
              "<pre style=\"white-space:pre;overflow-x:auto;line-height:normal;font-family:Menlo,'DejaVu Sans Mono',consolas,'Courier New',monospace\">╭───────────────────────────────────────────── <span style=\"color: #008080; text-decoration-color: #008080\">Strategy: Tool Usage</span> ──────────────────────────────────────────────╮\n",
              "│ 🔧 Using tool: debt_payoff_calculator                                                                           │\n",
              "╰─────────────────────────────────────────────────────────────────────────────────────────────────────────────────╯\n",
              "</pre>\n"
            ],
            "text/plain": [
              "╭───────────────────────────────────────────── \u001b[36mStrategy: Tool Usage\u001b[0m ──────────────────────────────────────────────╮\n",
              "│ 🔧 Using tool: debt_payoff_calculator                                                                           │\n",
              "╰─────────────────────────────────────────────────────────────────────────────────────────────────────────────────╯\n"
            ]
          },
          "metadata": {},
          "output_type": "display_data"
        },
        {
          "data": {
            "text/html": [
              "<pre style=\"white-space:pre;overflow-x:auto;line-height:normal;font-family:Menlo,'DejaVu Sans Mono',consolas,'Courier New',monospace\">╭──────────────────────────────────────────────── <span style=\"color: #008080; text-decoration-color: #008080\">Step: Synthesis</span> ────────────────────────────────────────────────╮\n",
              "│ 📝 Synthesizing educational response from tool output...                                                        │\n",
              "╰─────────────────────────────────────────────────────────────────────────────────────────────────────────────────╯\n",
              "</pre>\n"
            ],
            "text/plain": [
              "╭──────────────────────────────────────────────── \u001b[36mStep: Synthesis\u001b[0m ────────────────────────────────────────────────╮\n",
              "│ 📝 Synthesizing educational response from tool output...                                                        │\n",
              "╰─────────────────────────────────────────────────────────────────────────────────────────────────────────────────╯\n"
            ]
          },
          "metadata": {},
          "output_type": "display_data"
        },
        {
          "data": {
            "text/html": [
              "<pre style=\"white-space:pre;overflow-x:auto;line-height:normal;font-family:Menlo,'DejaVu Sans Mono',consolas,'Courier New',monospace\"><span style=\"font-weight: bold\">Educational Financial Literacy Response: Understanding Credit Card Debt Payoff</span>                                     \n",
              "\n",
              "Thank you for your question. Below is an educational explanation based on a simplified financial analysis tool.    \n",
              "Please note that this information is for <span style=\"font-weight: bold\">general educational purposes only</span> and does not constitute financial       \n",
              "advice.                                                                                                            \n",
              "\n",
              "<span style=\"color: #808000; text-decoration-color: #808000\">───────────────────────────────────────────────────────────────────────────────────────────────────────────────────</span>\n",
              "                                      <span style=\"font-weight: bold\">🔍 Your Scenario (Educational Example):</span>                                      \n",
              "\n",
              "<span style=\"color: #808000; text-decoration-color: #808000; font-weight: bold\"> • </span><span style=\"font-weight: bold\">Credit Card Debt (Principal):</span> $10,000                                                                           \n",
              "<span style=\"color: #808000; text-decoration-color: #808000; font-weight: bold\"> • </span><span style=\"font-weight: bold\">Annual Percentage Rate (APR):</span> 18%                                                                               \n",
              "<span style=\"color: #808000; text-decoration-color: #808000; font-weight: bold\"> • </span><span style=\"font-weight: bold\">Monthly Payment:</span> $300                                                                                           \n",
              "\n",
              "<span style=\"color: #808000; text-decoration-color: #808000\">───────────────────────────────────────────────────────────────────────────────────────────────────────────────────</span>\n",
              "                            <span style=\"font-weight: bold\">📊 Simplified Debt Payoff Analysis (Educational Use Only):</span>                             \n",
              "\n",
              "<span style=\"font-style: italic\">Note: There appears to be an error in the tool output provided (e.g., principal and interest listed as $0.00). We </span> \n",
              "<span style=\"font-style: italic\">will correct and explain the expected educational outcome based on standard debt payoff calculations.</span>              \n",
              "\n",
              "Using standard financial math for credit card debt:                                                                \n",
              "\n",
              "<span style=\"color: #808000; text-decoration-color: #808000; font-weight: bold\"> • </span><span style=\"font-weight: bold\">Estimated Payoff Time:</span> Approximately <span style=\"font-weight: bold\">4.5 years</span> (54 months)                                                      \n",
              "<span style=\"color: #808000; text-decoration-color: #808000; font-weight: bold\"> • </span><span style=\"font-weight: bold\">Total Interest Paid:</span> Around <span style=\"font-weight: bold\">$4,300</span>                                                                              \n",
              "<span style=\"color: #808000; text-decoration-color: #808000; font-weight: bold\"> • </span><span style=\"font-weight: bold\">Total Amount Paid:</span> Roughly <span style=\"font-weight: bold\">$14,300</span> ($10,000 principal + $4,300 interest)                                        \n",
              "\n",
              "<span style=\"font-style: italic\">How this works:</span>                                                                                                    \n",
              "Each month, your $300 payment first covers the accrued interest, then reduces the principal. With an 18% APR, the  \n",
              "monthly interest rate is about 1.5%. In the early months, a large portion of your payment goes toward interest.    \n",
              "Over time, as the balance decreases, more of your payment reduces the principal.                                   \n",
              "\n",
              "<span style=\"color: #808000; text-decoration-color: #808000\">───────────────────────────────────────────────────────────────────────────────────────────────────────────────────</span>\n",
              "                                             <span style=\"font-weight: bold\">⚠️ Important Disclaimers:</span>                                              \n",
              "\n",
              "<span style=\"color: #808000; text-decoration-color: #808000; font-weight: bold\"> 1 </span><span style=\"font-weight: bold\">Not Financial Advice:</span>                                                                                           \n",
              "<span style=\"color: #808000; text-decoration-color: #808000; font-weight: bold\">   </span>This analysis is a simplified educational example. It does not consider fees, changes in interest rates, payment\n",
              "<span style=\"color: #808000; text-decoration-color: #808000; font-weight: bold\">   </span>due date variations, or other personal financial factors.                                                       \n",
              "<span style=\"color: #808000; text-decoration-color: #808000; font-weight: bold\"> 2 </span><span style=\"font-weight: bold\">Results Are Estimates:</span>                                                                                          \n",
              "<span style=\"color: #808000; text-decoration-color: #808000; font-weight: bold\">   </span>Actual payoff time and interest costs may differ based on your card issuer’s compounding method, grace periods, \n",
              "<span style=\"color: #808000; text-decoration-color: #808000; font-weight: bold\">   </span>fees, or changes in your payment behavior.                                                                      \n",
              "<span style=\"color: #808000; text-decoration-color: #808000; font-weight: bold\"> 3 </span><span style=\"font-weight: bold\">Seek Professional Guidance:</span>                                                                                     \n",
              "<span style=\"color: #808000; text-decoration-color: #808000; font-weight: bold\">   </span>For personalized financial planning, please consult a qualified financial advisor or credit counselor. They can \n",
              "<span style=\"color: #808000; text-decoration-color: #808000; font-weight: bold\">   </span>help you create a strategy based on your full financial picture.                                                \n",
              "<span style=\"color: #808000; text-decoration-color: #808000; font-weight: bold\"> 4 </span><span style=\"font-weight: bold\">Tools Have Limitations:</span>                                                                                         \n",
              "<span style=\"color: #808000; text-decoration-color: #808000; font-weight: bold\">   </span>Online calculators and simplified models are helpful for learning, but they cannot replace professional advice  \n",
              "<span style=\"color: #808000; text-decoration-color: #808000; font-weight: bold\">   </span>tailored to your situation.                                                                                     \n",
              "\n",
              "<span style=\"color: #808000; text-decoration-color: #808000\">───────────────────────────────────────────────────────────────────────────────────────────────────────────────────</span>\n",
              "                                <span style=\"font-weight: bold\">💡 Educational Tips for Managing Credit Card Debt:</span>                                 \n",
              "\n",
              "<span style=\"color: #808000; text-decoration-color: #808000; font-weight: bold\"> • </span><span style=\"font-weight: bold\">Pay More Than the Minimum:</span> Increasing your monthly payment can significantly reduce interest and payoff time.   \n",
              "<span style=\"color: #808000; text-decoration-color: #808000; font-weight: bold\">   </span>For example, paying $400/month could save you over $1,000 in interest and shorten the payoff time by nearly 2   \n",
              "<span style=\"color: #808000; text-decoration-color: #808000; font-weight: bold\">   </span>years.                                                                                                          \n",
              "<span style=\"color: #808000; text-decoration-color: #808000; font-weight: bold\"> • </span><span style=\"font-weight: bold\">Consider a Balance Transfer:</span> Some cards offer 0% intro APR for a period (e.g., 12–18 months). This can help you \n",
              "<span style=\"color: #808000; text-decoration-color: #808000; font-weight: bold\">   </span>save on interest <span style=\"font-style: italic\">if</span> you can pay off the balance during the promotional period. (Be aware of balance transfer    \n",
              "<span style=\"color: #808000; text-decoration-color: #808000; font-weight: bold\">   </span>fees, typically 3–5%.)                                                                                          \n",
              "<span style=\"color: #808000; text-decoration-color: #808000; font-weight: bold\"> • </span><span style=\"font-weight: bold\">Avoid Adding New Charges:</span> Continuing to use the card can prolong debt and increase total costs.                 \n",
              "<span style=\"color: #808000; text-decoration-color: #808000; font-weight: bold\"> • </span><span style=\"font-weight: bold\">Use Budgeting Tools:</span> Track income and expenses to find ways to allocate more toward debt repayment.             \n",
              "\n",
              "<span style=\"color: #808000; text-decoration-color: #808000\">───────────────────────────────────────────────────────────────────────────────────────────────────────────────────</span>\n",
              "                                      <span style=\"font-weight: bold\">📘 Learn More (Educational Resources):</span>                                       \n",
              "\n",
              "<span style=\"color: #808000; text-decoration-color: #808000; font-weight: bold\"> • </span>Consumer Financial Protection Bureau (CFPB) – <a href=\"https://www.consumerfinance.gov\" target=\"_blank\"><span style=\"color: #000080; text-decoration-color: #000080; text-decoration: underline\">www.consumerfinance.gov</span></a>                                           \n",
              "<span style=\"color: #808000; text-decoration-color: #808000; font-weight: bold\"> • </span>National Foundation for Credit Counseling – <a href=\"https://www.nfcc.org\" target=\"_blank\"><span style=\"color: #000080; text-decoration-color: #000080; text-decoration: underline\">www.nfcc.org</span></a>                                                        \n",
              "\n",
              "<span style=\"color: #808000; text-decoration-color: #808000\">───────────────────────────────────────────────────────────────────────────────────────────────────────────────────</span>\n",
              "<span style=\"font-weight: bold\">Remember:</span> Managing debt effectively is an important part of financial health. While tools can help you understand  \n",
              "the basics, always consult with a financial professional before making decisions about your finances.              \n",
              "</pre>\n"
            ],
            "text/plain": [
              "\u001b[1mEducational Financial Literacy Response: Understanding Credit Card Debt Payoff\u001b[0m                                     \n",
              "\n",
              "Thank you for your question. Below is an educational explanation based on a simplified financial analysis tool.    \n",
              "Please note that this information is for \u001b[1mgeneral educational purposes only\u001b[0m and does not constitute financial       \n",
              "advice.                                                                                                            \n",
              "\n",
              "\u001b[33m───────────────────────────────────────────────────────────────────────────────────────────────────────────────────\u001b[0m\n",
              "                                      \u001b[1m🔍 \u001b[0m\u001b[1mYour Scenario (Educational Example):\u001b[0m                                      \n",
              "\n",
              "\u001b[1;33m • \u001b[0m\u001b[1mCredit Card Debt (Principal):\u001b[0m $10,000                                                                           \n",
              "\u001b[1;33m • \u001b[0m\u001b[1mAnnual Percentage Rate (APR):\u001b[0m 18%                                                                               \n",
              "\u001b[1;33m • \u001b[0m\u001b[1mMonthly Payment:\u001b[0m $300                                                                                           \n",
              "\n",
              "\u001b[33m───────────────────────────────────────────────────────────────────────────────────────────────────────────────────\u001b[0m\n",
              "                            \u001b[1m📊 \u001b[0m\u001b[1mSimplified Debt Payoff Analysis (Educational Use Only):\u001b[0m                             \n",
              "\n",
              "\u001b[3mNote: There appears to be an error in the tool output provided (e.g., principal and interest listed as $0.00). We \u001b[0m \n",
              "\u001b[3mwill correct and explain the expected educational outcome based on standard debt payoff calculations.\u001b[0m              \n",
              "\n",
              "Using standard financial math for credit card debt:                                                                \n",
              "\n",
              "\u001b[1;33m • \u001b[0m\u001b[1mEstimated Payoff Time:\u001b[0m Approximately \u001b[1m4.5 years\u001b[0m (54 months)                                                      \n",
              "\u001b[1;33m • \u001b[0m\u001b[1mTotal Interest Paid:\u001b[0m Around \u001b[1m$4,300\u001b[0m                                                                              \n",
              "\u001b[1;33m • \u001b[0m\u001b[1mTotal Amount Paid:\u001b[0m Roughly \u001b[1m$14,300\u001b[0m ($10,000 principal + $4,300 interest)                                        \n",
              "\n",
              "\u001b[3mHow this works:\u001b[0m                                                                                                    \n",
              "Each month, your $300 payment first covers the accrued interest, then reduces the principal. With an 18% APR, the  \n",
              "monthly interest rate is about 1.5%. In the early months, a large portion of your payment goes toward interest.    \n",
              "Over time, as the balance decreases, more of your payment reduces the principal.                                   \n",
              "\n",
              "\u001b[33m───────────────────────────────────────────────────────────────────────────────────────────────────────────────────\u001b[0m\n",
              "                                             \u001b[1m⚠️ \u001b[0m\u001b[1mImportant Disclaimers:\u001b[0m                                              \n",
              "\n",
              "\u001b[1;33m 1 \u001b[0m\u001b[1mNot Financial Advice:\u001b[0m                                                                                           \n",
              "\u001b[1;33m   \u001b[0mThis analysis is a simplified educational example. It does not consider fees, changes in interest rates, payment\n",
              "\u001b[1;33m   \u001b[0mdue date variations, or other personal financial factors.                                                       \n",
              "\u001b[1;33m 2 \u001b[0m\u001b[1mResults Are Estimates:\u001b[0m                                                                                          \n",
              "\u001b[1;33m   \u001b[0mActual payoff time and interest costs may differ based on your card issuer’s compounding method, grace periods, \n",
              "\u001b[1;33m   \u001b[0mfees, or changes in your payment behavior.                                                                      \n",
              "\u001b[1;33m 3 \u001b[0m\u001b[1mSeek Professional Guidance:\u001b[0m                                                                                     \n",
              "\u001b[1;33m   \u001b[0mFor personalized financial planning, please consult a qualified financial advisor or credit counselor. They can \n",
              "\u001b[1;33m   \u001b[0mhelp you create a strategy based on your full financial picture.                                                \n",
              "\u001b[1;33m 4 \u001b[0m\u001b[1mTools Have Limitations:\u001b[0m                                                                                         \n",
              "\u001b[1;33m   \u001b[0mOnline calculators and simplified models are helpful for learning, but they cannot replace professional advice  \n",
              "\u001b[1;33m   \u001b[0mtailored to your situation.                                                                                     \n",
              "\n",
              "\u001b[33m───────────────────────────────────────────────────────────────────────────────────────────────────────────────────\u001b[0m\n",
              "                                \u001b[1m💡 \u001b[0m\u001b[1mEducational Tips for Managing Credit Card Debt:\u001b[0m                                 \n",
              "\n",
              "\u001b[1;33m • \u001b[0m\u001b[1mPay More Than the Minimum:\u001b[0m Increasing your monthly payment can significantly reduce interest and payoff time.   \n",
              "\u001b[1;33m   \u001b[0mFor example, paying $400/month could save you over $1,000 in interest and shorten the payoff time by nearly 2   \n",
              "\u001b[1;33m   \u001b[0myears.                                                                                                          \n",
              "\u001b[1;33m • \u001b[0m\u001b[1mConsider a Balance Transfer:\u001b[0m Some cards offer 0% intro APR for a period (e.g., 12–18 months). This can help you \n",
              "\u001b[1;33m   \u001b[0msave on interest \u001b[3mif\u001b[0m you can pay off the balance during the promotional period. (Be aware of balance transfer    \n",
              "\u001b[1;33m   \u001b[0mfees, typically 3–5%.)                                                                                          \n",
              "\u001b[1;33m • \u001b[0m\u001b[1mAvoid Adding New Charges:\u001b[0m Continuing to use the card can prolong debt and increase total costs.                 \n",
              "\u001b[1;33m • \u001b[0m\u001b[1mUse Budgeting Tools:\u001b[0m Track income and expenses to find ways to allocate more toward debt repayment.             \n",
              "\n",
              "\u001b[33m───────────────────────────────────────────────────────────────────────────────────────────────────────────────────\u001b[0m\n",
              "                                      \u001b[1m📘 \u001b[0m\u001b[1mLearn More (Educational Resources):\u001b[0m                                       \n",
              "\n",
              "\u001b[1;33m • \u001b[0mConsumer Financial Protection Bureau (CFPB) – \u001b]8;id=821488;https://www.consumerfinance.gov\u001b\\\u001b[4;34mwww.consumerfinance.gov\u001b[0m\u001b]8;;\u001b\\                                           \n",
              "\u001b[1;33m • \u001b[0mNational Foundation for Credit Counseling – \u001b]8;id=356212;https://www.nfcc.org\u001b\\\u001b[4;34mwww.nfcc.org\u001b[0m\u001b]8;;\u001b\\                                                        \n",
              "\n",
              "\u001b[33m───────────────────────────────────────────────────────────────────────────────────────────────────────────────────\u001b[0m\n",
              "\u001b[1mRemember:\u001b[0m Managing debt effectively is an important part of financial health. While tools can help you understand  \n",
              "the basics, always consult with a financial professional before making decisions about your finances.              \n"
            ]
          },
          "metadata": {},
          "output_type": "display_data"
        }
      ],
      "source": [
        "# Test 2: Tool usage scenario (should use debt calculator)\n",
        "console.print(\"\\\\n\" + \"=\"*60)\n",
        "console.print(Panel(\"🧮 Test 2: Educational Calculation Query\", title=\"[blue]Testing Scenario 2[/blue]\"))\n",
        "console.print(Panel(\"Query: If I have a $10,000 credit card debt at 18% APR and can pay $300/month, how long will it take to pay off?\", title=\"[yellow]User Query[/yellow]\"))\n",
        "\n",
        "test2_result = run_financial_agent(\"If I have a $10,000 credit card debt at 18% APR and can pay $300/month, how long will it take to pay off?\")\n"
      ]
    },
    {
      "cell_type": "code",
      "execution_count": 17,
      "metadata": {},
      "outputs": [
        {
          "data": {
            "text/html": [
              "<pre style=\"white-space:pre;overflow-x:auto;line-height:normal;font-family:Menlo,'DejaVu Sans Mono',consolas,'Courier New',monospace\">\\<span style=\"color: #808000; text-decoration-color: #808000\">n</span>============================================================\n",
              "</pre>\n"
            ],
            "text/plain": [
              "\\\u001b[33mn\u001b[0m============================================================\n"
            ]
          },
          "metadata": {},
          "output_type": "display_data"
        },
        {
          "data": {
            "text/html": [
              "<pre style=\"white-space:pre;overflow-x:auto;line-height:normal;font-family:Menlo,'DejaVu Sans Mono',consolas,'Courier New',monospace\">╭────────────────────────────────────────────── <span style=\"color: #000080; text-decoration-color: #000080\">Testing Scenario 3</span> ───────────────────────────────────────────────╮\n",
              "│ 🚨 Test 3: High-Risk Investment Query                                                                           │\n",
              "╰─────────────────────────────────────────────────────────────────────────────────────────────────────────────────╯\n",
              "</pre>\n"
            ],
            "text/plain": [
              "╭────────────────────────────────────────────── \u001b[34mTesting Scenario 3\u001b[0m ───────────────────────────────────────────────╮\n",
              "│ 🚨 Test 3: High-Risk Investment Query                                                                           │\n",
              "╰─────────────────────────────────────────────────────────────────────────────────────────────────────────────────╯\n"
            ]
          },
          "metadata": {},
          "output_type": "display_data"
        },
        {
          "data": {
            "text/html": [
              "<pre style=\"white-space:pre;overflow-x:auto;line-height:normal;font-family:Menlo,'DejaVu Sans Mono',consolas,'Courier New',monospace\">╭────────────────────────────────────────────────── <span style=\"color: #808000; text-decoration-color: #808000\">User Query</span> ───────────────────────────────────────────────────╮\n",
              "│ Query: Should I take out a second mortgage to invest in cryptocurrency? I heard Bitcoin is going to the moon!   │\n",
              "╰─────────────────────────────────────────────────────────────────────────────────────────────────────────────────╯\n",
              "</pre>\n"
            ],
            "text/plain": [
              "╭────────────────────────────────────────────────── \u001b[33mUser Query\u001b[0m ───────────────────────────────────────────────────╮\n",
              "│ Query: Should I take out a second mortgage to invest in cryptocurrency? I heard Bitcoin is going to the moon!   │\n",
              "╰─────────────────────────────────────────────────────────────────────────────────────────────────────────────────╯\n"
            ]
          },
          "metadata": {},
          "output_type": "display_data"
        },
        {
          "data": {
            "text/html": [
              "<pre style=\"white-space:pre;overflow-x:auto;line-height:normal;font-family:Menlo,'DejaVu Sans Mono',consolas,'Courier New',monospace\">╭───────────────────────────────────────────── <span style=\"color: #808000; text-decoration-color: #808000\">Step: Self-Reflection</span> ─────────────────────────────────────────────╮\n",
              "│ 🧠 Agent performing metacognitive analysis...                                                                   │\n",
              "╰─────────────────────────────────────────────────────────────────────────────────────────────────────────────────╯\n",
              "</pre>\n"
            ],
            "text/plain": [
              "╭───────────────────────────────────────────── \u001b[33mStep: Self-Reflection\u001b[0m ─────────────────────────────────────────────╮\n",
              "│ 🧠 Agent performing metacognitive analysis...                                                                   │\n",
              "╰─────────────────────────────────────────────────────────────────────────────────────────────────────────────────╯\n"
            ]
          },
          "metadata": {},
          "output_type": "display_data"
        },
        {
          "data": {
            "text/html": [
              "<pre style=\"white-space:pre;overflow-x:auto;line-height:normal;font-family:Menlo,'DejaVu Sans Mono',consolas,'Courier New',monospace\">╭───────────────────────────────────────── Metacognitive Analysis Result ─────────────────────────────────────────╮\n",
              "│ <span style=\"font-weight: bold\">Confidence:</span> 0.98\\n<span style=\"font-weight: bold\">Risk Level:</span> high\\n<span style=\"font-weight: bold\">Strategy:</span> escalate\\n<span style=\"font-weight: bold\">Compliant:</span> True\\n<span style=\"font-weight: bold\">Reasoning:</span> The query requests          │\n",
              "│ personalized advice on using a second mortgage (a high-risk financial instrument involving home equity and      │\n",
              "│ significant repayment obligations) to invest in cryptocurrency, specifically referencing Bitcoin with           │\n",
              "│ speculative language ('going to the moon'). This combines two high-risk domains: leveraging home equity for     │\n",
              "│ investment and cryptocurrency speculation. Providing any affirmative or advisory response could encourage       │\n",
              "│ dangerous financial behavior. The agent is explicitly prohibited from giving personalized investment advice,    │\n",
              "│ cryptocurrency trading guidance, or recommendations involving high-stakes debt usage. Even educational tools    │\n",
              "│ cannot be safely applied here without implying endorsement of the strategy.                                     │\n",
              "╰─────────────────────────────────────────────────────────────────────────────────────────────────────────────────╯\n",
              "</pre>\n"
            ],
            "text/plain": [
              "╭───────────────────────────────────────── Metacognitive Analysis Result ─────────────────────────────────────────╮\n",
              "│ \u001b[1mConfidence:\u001b[0m 0.98\\n\u001b[1mRisk Level:\u001b[0m high\\n\u001b[1mStrategy:\u001b[0m escalate\\n\u001b[1mCompliant:\u001b[0m True\\n\u001b[1mReasoning:\u001b[0m The query requests          │\n",
              "│ personalized advice on using a second mortgage (a high-risk financial instrument involving home equity and      │\n",
              "│ significant repayment obligations) to invest in cryptocurrency, specifically referencing Bitcoin with           │\n",
              "│ speculative language ('going to the moon'). This combines two high-risk domains: leveraging home equity for     │\n",
              "│ investment and cryptocurrency speculation. Providing any affirmative or advisory response could encourage       │\n",
              "│ dangerous financial behavior. The agent is explicitly prohibited from giving personalized investment advice,    │\n",
              "│ cryptocurrency trading guidance, or recommendations involving high-stakes debt usage. Even educational tools    │\n",
              "│ cannot be safely applied here without implying endorsement of the strategy.                                     │\n",
              "╰─────────────────────────────────────────────────────────────────────────────────────────────────────────────────╯\n"
            ]
          },
          "metadata": {},
          "output_type": "display_data"
        },
        {
          "data": {
            "text/html": [
              "<pre style=\"white-space:pre;overflow-x:auto;line-height:normal;font-family:Menlo,'DejaVu Sans Mono',consolas,'Courier New',monospace\">╭──────────────────────────────────────── <span style=\"color: #800000; text-decoration-color: #800000; font-weight: bold\">Strategy: Professional Referral</span> ────────────────────────────────────────╮\n",
              "│ 🚨 Escalating to qualified financial professional                                                               │\n",
              "╰─────────────────────────────────────────────────────────────────────────────────────────────────────────────────╯\n",
              "</pre>\n"
            ],
            "text/plain": [
              "╭──────────────────────────────────────── \u001b[1;31mStrategy: Professional Referral\u001b[0m ────────────────────────────────────────╮\n",
              "│ 🚨 Escalating to qualified financial professional                                                               │\n",
              "╰─────────────────────────────────────────────────────────────────────────────────────────────────────────────────╯\n"
            ]
          },
          "metadata": {},
          "output_type": "display_data"
        },
        {
          "data": {
            "text/html": [
              "<pre style=\"white-space:pre;overflow-x:auto;line-height:normal;font-family:Menlo,'DejaVu Sans Mono',consolas,'Courier New',monospace\">I am an AI assistant focused on financial education, and I've determined that your query requires guidance from a  \n",
              "qualified financial professional.                                                                                  \n",
              "\n",
              "<span style=\"font-weight: bold\">Why I'm referring you:</span> The query requests personalized advice on using a second mortgage (a high-risk financial    \n",
              "instrument involving home equity and significant repayment obligations) to invest in cryptocurrency, specifically  \n",
              "referencing Bitcoin with speculative language ('going to the moon'). This combines two high-risk domains:          \n",
              "leveraging home equity for investment and cryptocurrency speculation. Providing any affirmative or advisory        \n",
              "response could encourage dangerous financial behavior. The agent is explicitly prohibited from giving personalized \n",
              "investment advice, cryptocurrency trading guidance, or recommendations involving high-stakes debt usage. Even      \n",
              "educational tools cannot be safely applied here without implying endorsement of the strategy.                      \n",
              "\n",
              "<span style=\"font-weight: bold\">For your query about:</span> Should I take out a second mortgage to invest in cryptocurrency? I heard Bitcoin is going to \n",
              "the moo...                                                                                                         \n",
              "\n",
              "<span style=\"font-weight: bold\">I recommend consulting:</span>                                                                                            \n",
              "\n",
              "<span style=\"color: #808000; text-decoration-color: #808000; font-weight: bold\"> • </span>A Certified Financial Planner (CFP) for comprehensive financial planning                                        \n",
              "<span style=\"color: #808000; text-decoration-color: #808000; font-weight: bold\"> • </span>A licensed investment advisor for investment-related questions                                                  \n",
              "<span style=\"color: #808000; text-decoration-color: #808000; font-weight: bold\"> • </span>A tax professional (CPA/EA) for tax-related matters                                                             \n",
              "<span style=\"color: #808000; text-decoration-color: #808000; font-weight: bold\"> • </span>An attorney specializing in financial law for legal questions                                                   \n",
              "\n",
              "<span style=\"font-weight: bold\">Finding qualified professionals:</span>                                                                                   \n",
              "\n",
              "<span style=\"color: #808000; text-decoration-color: #808000; font-weight: bold\"> • </span>Use the CFP Board's search tool: cfp.net/utility/find-a-cfp-professional                                        \n",
              "<span style=\"color: #808000; text-decoration-color: #808000; font-weight: bold\"> • </span>Check FINRA BrokerCheck for investment advisors: brokercheck.finra.org                                          \n",
              "<span style=\"color: #808000; text-decoration-color: #808000; font-weight: bold\"> • </span>Consult your local CPA society for tax professionals                                                            \n",
              "\n",
              "<span style=\"font-weight: bold\">Remember:</span> Professional financial advice is personalized to your specific situation, which I cannot provide. A      \n",
              "qualified professional can give you guidance tailored to your circumstances, goals, and risk tolerance.            \n",
              "</pre>\n"
            ],
            "text/plain": [
              "I am an AI assistant focused on financial education, and I've determined that your query requires guidance from a  \n",
              "qualified financial professional.                                                                                  \n",
              "\n",
              "\u001b[1mWhy I'm referring you:\u001b[0m The query requests personalized advice on using a second mortgage (a high-risk financial    \n",
              "instrument involving home equity and significant repayment obligations) to invest in cryptocurrency, specifically  \n",
              "referencing Bitcoin with speculative language ('going to the moon'). This combines two high-risk domains:          \n",
              "leveraging home equity for investment and cryptocurrency speculation. Providing any affirmative or advisory        \n",
              "response could encourage dangerous financial behavior. The agent is explicitly prohibited from giving personalized \n",
              "investment advice, cryptocurrency trading guidance, or recommendations involving high-stakes debt usage. Even      \n",
              "educational tools cannot be safely applied here without implying endorsement of the strategy.                      \n",
              "\n",
              "\u001b[1mFor your query about:\u001b[0m Should I take out a second mortgage to invest in cryptocurrency? I heard Bitcoin is going to \n",
              "the moo...                                                                                                         \n",
              "\n",
              "\u001b[1mI recommend consulting:\u001b[0m                                                                                            \n",
              "\n",
              "\u001b[1;33m • \u001b[0mA Certified Financial Planner (CFP) for comprehensive financial planning                                        \n",
              "\u001b[1;33m • \u001b[0mA licensed investment advisor for investment-related questions                                                  \n",
              "\u001b[1;33m • \u001b[0mA tax professional (CPA/EA) for tax-related matters                                                             \n",
              "\u001b[1;33m • \u001b[0mAn attorney specializing in financial law for legal questions                                                   \n",
              "\n",
              "\u001b[1mFinding qualified professionals:\u001b[0m                                                                                   \n",
              "\n",
              "\u001b[1;33m • \u001b[0mUse the CFP Board's search tool: cfp.net/utility/find-a-cfp-professional                                        \n",
              "\u001b[1;33m • \u001b[0mCheck FINRA BrokerCheck for investment advisors: brokercheck.finra.org                                          \n",
              "\u001b[1;33m • \u001b[0mConsult your local CPA society for tax professionals                                                            \n",
              "\n",
              "\u001b[1mRemember:\u001b[0m Professional financial advice is personalized to your specific situation, which I cannot provide. A      \n",
              "qualified professional can give you guidance tailored to your circumstances, goals, and risk tolerance.            \n"
            ]
          },
          "metadata": {},
          "output_type": "display_data"
        }
      ],
      "source": [
        "# Test 3: High-risk query requiring escalation\n",
        "console.print(\"\\\\n\" + \"=\"*60)\n",
        "console.print(Panel(\"🚨 Test 3: High-Risk Investment Query\", title=\"[blue]Testing Scenario 3[/blue]\"))\n",
        "console.print(Panel(\"Query: Should I take out a second mortgage to invest in cryptocurrency? I heard Bitcoin is going to the moon!\", title=\"[yellow]User Query[/yellow]\"))\n",
        "\n",
        "test3_result = run_financial_agent(\"Should I take out a second mortgage to invest in cryptocurrency? I heard Bitcoin is going to the moon!\")\n"
      ]
    },
    {
      "cell_type": "code",
      "execution_count": 18,
      "metadata": {},
      "outputs": [
        {
          "data": {
            "text/html": [
              "<pre style=\"white-space:pre;overflow-x:auto;line-height:normal;font-family:Menlo,'DejaVu Sans Mono',consolas,'Courier New',monospace\">\\<span style=\"color: #808000; text-decoration-color: #808000\">n</span>============================================================\n",
              "</pre>\n"
            ],
            "text/plain": [
              "\\\u001b[33mn\u001b[0m============================================================\n"
            ]
          },
          "metadata": {},
          "output_type": "display_data"
        },
        {
          "data": {
            "text/html": [
              "<pre style=\"white-space:pre;overflow-x:auto;line-height:normal;font-family:Menlo,'DejaVu Sans Mono',consolas,'Courier New',monospace\">╭────────────────────────────────────────────── <span style=\"color: #000080; text-decoration-color: #000080\">Testing Scenario 4</span> ───────────────────────────────────────────────╮\n",
              "│ 📊 Test 4: Portfolio Analysis Query                                                                             │\n",
              "╰─────────────────────────────────────────────────────────────────────────────────────────────────────────────────╯\n",
              "</pre>\n"
            ],
            "text/plain": [
              "╭────────────────────────────────────────────── \u001b[34mTesting Scenario 4\u001b[0m ───────────────────────────────────────────────╮\n",
              "│ 📊 Test 4: Portfolio Analysis Query                                                                             │\n",
              "╰─────────────────────────────────────────────────────────────────────────────────────────────────────────────────╯\n"
            ]
          },
          "metadata": {},
          "output_type": "display_data"
        },
        {
          "data": {
            "text/html": [
              "<pre style=\"white-space:pre;overflow-x:auto;line-height:normal;font-family:Menlo,'DejaVu Sans Mono',consolas,'Courier New',monospace\">╭────────────────────────────────────────────────── <span style=\"color: #808000; text-decoration-color: #808000\">User Query</span> ───────────────────────────────────────────────────╮\n",
              "│ Query: Can you analyze this portfolio allocation: 60% stocks, 30% bonds, 10% cash? Is this reasonable?          │\n",
              "╰─────────────────────────────────────────────────────────────────────────────────────────────────────────────────╯\n",
              "</pre>\n"
            ],
            "text/plain": [
              "╭────────────────────────────────────────────────── \u001b[33mUser Query\u001b[0m ───────────────────────────────────────────────────╮\n",
              "│ Query: Can you analyze this portfolio allocation: 60% stocks, 30% bonds, 10% cash? Is this reasonable?          │\n",
              "╰─────────────────────────────────────────────────────────────────────────────────────────────────────────────────╯\n"
            ]
          },
          "metadata": {},
          "output_type": "display_data"
        },
        {
          "data": {
            "text/html": [
              "<pre style=\"white-space:pre;overflow-x:auto;line-height:normal;font-family:Menlo,'DejaVu Sans Mono',consolas,'Courier New',monospace\">╭───────────────────────────────────────────── <span style=\"color: #808000; text-decoration-color: #808000\">Step: Self-Reflection</span> ─────────────────────────────────────────────╮\n",
              "│ 🧠 Agent performing metacognitive analysis...                                                                   │\n",
              "╰─────────────────────────────────────────────────────────────────────────────────────────────────────────────────╯\n",
              "</pre>\n"
            ],
            "text/plain": [
              "╭───────────────────────────────────────────── \u001b[33mStep: Self-Reflection\u001b[0m ─────────────────────────────────────────────╮\n",
              "│ 🧠 Agent performing metacognitive analysis...                                                                   │\n",
              "╰─────────────────────────────────────────────────────────────────────────────────────────────────────────────────╯\n"
            ]
          },
          "metadata": {},
          "output_type": "display_data"
        },
        {
          "data": {
            "text/html": [
              "<pre style=\"white-space:pre;overflow-x:auto;line-height:normal;font-family:Menlo,'DejaVu Sans Mono',consolas,'Courier New',monospace\">╭───────────────────────────────────────── Metacognitive Analysis Result ─────────────────────────────────────────╮\n",
              "│ <span style=\"font-weight: bold\">Confidence:</span> 0.98\\n<span style=\"font-weight: bold\">Risk Level:</span> medium\\n<span style=\"font-weight: bold\">Strategy:</span> use_tool\\n<span style=\"font-weight: bold\">Compliant:</span> True\\n<span style=\"font-weight: bold\">Reasoning:</span> The user is asking for an │\n",
              "│ analysis of a portfolio allocation, which falls within the educational scope of basic_investing_concepts. The   │\n",
              "│ allocation (60% stocks, 30% bonds, 10% cash) is a common example often used in financial literacy education.    │\n",
              "│ This is not a request for personalized advice, and the user explicitly frames it as being 'for educational      │\n",
              "│ purposes.' The basic_portfolio_analyzer tool can be used to illustrate general principles of diversification    │\n",
              "│ and risk exposure. However, the output must include clear disclaimers that this is not personalized advice and  │\n",
              "│ that actual investment decisions should involve a licensed financial advisor. No prohibited activities are      │\n",
              "│ involved, as there are no specific product or stock recommendations requested or provided.                      │\n",
              "╰─────────────────────────────────────────────────────────────────────────────────────────────────────────────────╯\n",
              "</pre>\n"
            ],
            "text/plain": [
              "╭───────────────────────────────────────── Metacognitive Analysis Result ─────────────────────────────────────────╮\n",
              "│ \u001b[1mConfidence:\u001b[0m 0.98\\n\u001b[1mRisk Level:\u001b[0m medium\\n\u001b[1mStrategy:\u001b[0m use_tool\\n\u001b[1mCompliant:\u001b[0m True\\n\u001b[1mReasoning:\u001b[0m The user is asking for an │\n",
              "│ analysis of a portfolio allocation, which falls within the educational scope of basic_investing_concepts. The   │\n",
              "│ allocation (60% stocks, 30% bonds, 10% cash) is a common example often used in financial literacy education.    │\n",
              "│ This is not a request for personalized advice, and the user explicitly frames it as being 'for educational      │\n",
              "│ purposes.' The basic_portfolio_analyzer tool can be used to illustrate general principles of diversification    │\n",
              "│ and risk exposure. However, the output must include clear disclaimers that this is not personalized advice and  │\n",
              "│ that actual investment decisions should involve a licensed financial advisor. No prohibited activities are      │\n",
              "│ involved, as there are no specific product or stock recommendations requested or provided.                      │\n",
              "╰─────────────────────────────────────────────────────────────────────────────────────────────────────────────────╯\n"
            ]
          },
          "metadata": {},
          "output_type": "display_data"
        },
        {
          "data": {
            "text/html": [
              "<pre style=\"white-space:pre;overflow-x:auto;line-height:normal;font-family:Menlo,'DejaVu Sans Mono',consolas,'Courier New',monospace\">╭───────────────────────────────────────────── <span style=\"color: #008080; text-decoration-color: #008080\">Strategy: Tool Usage</span> ──────────────────────────────────────────────╮\n",
              "│ 🔧 Using tool: basic_portfolio_analyzer                                                                         │\n",
              "╰─────────────────────────────────────────────────────────────────────────────────────────────────────────────────╯\n",
              "</pre>\n"
            ],
            "text/plain": [
              "╭───────────────────────────────────────────── \u001b[36mStrategy: Tool Usage\u001b[0m ──────────────────────────────────────────────╮\n",
              "│ 🔧 Using tool: basic_portfolio_analyzer                                                                         │\n",
              "╰─────────────────────────────────────────────────────────────────────────────────────────────────────────────────╯\n"
            ]
          },
          "metadata": {},
          "output_type": "display_data"
        },
        {
          "data": {
            "text/html": [
              "<pre style=\"white-space:pre;overflow-x:auto;line-height:normal;font-family:Menlo,'DejaVu Sans Mono',consolas,'Courier New',monospace\">╭──────────────────────────────────────────────── <span style=\"color: #008080; text-decoration-color: #008080\">Step: Synthesis</span> ────────────────────────────────────────────────╮\n",
              "│ 📝 Synthesizing educational response from tool output...                                                        │\n",
              "╰─────────────────────────────────────────────────────────────────────────────────────────────────────────────────╯\n",
              "</pre>\n"
            ],
            "text/plain": [
              "╭──────────────────────────────────────────────── \u001b[36mStep: Synthesis\u001b[0m ────────────────────────────────────────────────╮\n",
              "│ 📝 Synthesizing educational response from tool output...                                                        │\n",
              "╰─────────────────────────────────────────────────────────────────────────────────────────────────────────────────╯\n"
            ]
          },
          "metadata": {},
          "output_type": "display_data"
        },
        {
          "data": {
            "text/html": [
              "<pre style=\"white-space:pre;overflow-x:auto;line-height:normal;font-family:Menlo,'DejaVu Sans Mono',consolas,'Courier New',monospace\">Thank you for your question. I can provide an educational overview of the portfolio allocation you mentioned—60%   \n",
              "stocks, 30% bonds, and 10% cash—based on general financial principles. Please note that this analysis is for       \n",
              "educational purposes only and does not constitute financial advice.                                                \n",
              "\n",
              "<span style=\"color: #808000; text-decoration-color: #808000\">───────────────────────────────────────────────────────────────────────────────────────────────────────────────────</span>\n",
              "                               <span style=\"font-weight: bold\">📘 Educational Example: Portfolio Allocation Analysis</span>                               \n",
              "\n",
              "<span style=\"font-weight: bold\">Proposed Allocation:</span>                                                                                               \n",
              "\n",
              "<span style=\"color: #808000; text-decoration-color: #808000; font-weight: bold\"> • </span><span style=\"font-weight: bold\">60% Stocks</span> – Typically represents exposure to equities (e.g., company shares), which historically offer higher  \n",
              "<span style=\"color: #808000; text-decoration-color: #808000; font-weight: bold\">   </span>long-term growth potential but come with higher volatility.                                                     \n",
              "<span style=\"color: #808000; text-decoration-color: #808000; font-weight: bold\"> • </span><span style=\"font-weight: bold\">30% Bonds</span> – Generally includes fixed-income securities (e.g., government or corporate bonds), which tend to be  \n",
              "<span style=\"color: #808000; text-decoration-color: #808000; font-weight: bold\">   </span>less volatile and can provide regular income.                                                                   \n",
              "<span style=\"color: #808000; text-decoration-color: #808000; font-weight: bold\"> • </span><span style=\"font-weight: bold\">10% Cash or Cash Equivalents</span> – Includes savings accounts, money market funds, or short-term instruments. Offers \n",
              "<span style=\"color: #808000; text-decoration-color: #808000; font-weight: bold\">   </span>liquidity and safety but typically low returns.                                                                 \n",
              "\n",
              "<span style=\"color: #808000; text-decoration-color: #808000\">───────────────────────────────────────────────────────────────────────────────────────────────────────────────────</span>\n",
              "                                               <span style=\"font-weight: bold\">🔍 Tool Output Note:</span>                                                \n",
              "\n",
              "The financial analysis tool returned: <span style=\"font-style: italic\">\"Portfolio appears to be empty. Consider starting with a diversified </span>        \n",
              "<span style=\"font-style: italic\">approach.\"</span>                                                                                                         \n",
              "This message likely indicates that no specific assets or holdings were input into the tool for analysis. As such,  \n",
              "the tool cannot assess performance, risk, or diversification—it simply recognizes that no data was provided.       \n",
              "\n",
              "However, we can still discuss the <span style=\"font-style: italic\">conceptual framework</span> of a 60/30/10 allocation as a common educational model.     \n",
              "\n",
              "<span style=\"color: #808000; text-decoration-color: #808000\">───────────────────────────────────────────────────────────────────────────────────────────────────────────────────</span>\n",
              "                            <span style=\"font-weight: bold\">✅ Is This Allocation Reasonable? (Educational Perspective)</span>                            \n",
              "\n",
              "A 60/30/10 split is often considered a <span style=\"font-weight: bold\">moderate risk portfolio</span>, suitable for investors who:                        \n",
              "\n",
              "<span style=\"color: #808000; text-decoration-color: #808000; font-weight: bold\"> • </span>Seek some growth (via stocks),                                                                                  \n",
              "<span style=\"color: #808000; text-decoration-color: #808000; font-weight: bold\"> • </span>Want income and stability (via bonds),                                                                          \n",
              "<span style=\"color: #808000; text-decoration-color: #808000; font-weight: bold\"> • </span>Value liquidity and safety (via cash).                                                                          \n",
              "\n",
              "This type of allocation may be appropriate for individuals with:                                                   \n",
              "\n",
              "<span style=\"color: #808000; text-decoration-color: #808000; font-weight: bold\"> • </span>A medium-term investment horizon (e.g., 5–10 years),                                                            \n",
              "<span style=\"color: #808000; text-decoration-color: #808000; font-weight: bold\"> • </span>A moderate risk tolerance,                                                                                      \n",
              "<span style=\"color: #808000; text-decoration-color: #808000; font-weight: bold\"> • </span>A desire to balance growth and capital preservation.                                                            \n",
              "\n",
              "                                   <span style=\"color: #7f7f7f; text-decoration-color: #7f7f7f; font-weight: bold\">💡 Historical Context (Educational Use Only):</span>                                   \n",
              "\n",
              "Over long periods, diversified portfolios with significant stock exposure have historically outperformed cash or   \n",
              "bonds alone—but with greater short-term fluctuations. Bonds and cash help reduce overall volatility.               \n",
              "\n",
              "<span style=\"color: #808000; text-decoration-color: #808000\">───────────────────────────────────────────────────────────────────────────────────────────────────────────────────</span>\n",
              "                                              <span style=\"font-weight: bold\">⚠️ Important Disclaimers</span>                                              \n",
              "\n",
              "<span style=\"color: #808000; text-decoration-color: #808000; font-weight: bold\"> 1 </span><span style=\"font-weight: bold\">Not Financial Advice</span>: This analysis is for general educational purposes only. It does not take into account your\n",
              "<span style=\"color: #808000; text-decoration-color: #808000; font-weight: bold\">   </span>personal financial situation, goals, risk tolerance, or tax considerations.                                     \n",
              "<span style=\"color: #808000; text-decoration-color: #808000; font-weight: bold\"> 2 </span><span style=\"font-weight: bold\">Simplified Model</span>: Real-world portfolio management involves deeper analysis, including asset subclass            \n",
              "<span style=\"color: #808000; text-decoration-color: #808000; font-weight: bold\">   </span>diversification (e.g., international vs. domestic stocks), bond duration, credit quality, inflation, and market \n",
              "<span style=\"color: #808000; text-decoration-color: #808000; font-weight: bold\">   </span>conditions.                                                                                                     \n",
              "<span style=\"color: #808000; text-decoration-color: #808000; font-weight: bold\"> 3 </span><span style=\"font-weight: bold\">Professional Guidance Recommended</span>: Always consult a qualified financial advisor or certified professional before\n",
              "<span style=\"color: #808000; text-decoration-color: #808000; font-weight: bold\">   </span>making investment decisions. They can help tailor a strategy to your unique needs.                              \n",
              "<span style=\"color: #808000; text-decoration-color: #808000; font-weight: bold\"> 4 </span><span style=\"font-weight: bold\">Market Risk Exists</span>: All investments carry risk, including the potential loss of principal. Past performance is  \n",
              "<span style=\"color: #808000; text-decoration-color: #808000; font-weight: bold\">   </span>not indicative of future results.                                                                               \n",
              "<span style=\"color: #808000; text-decoration-color: #808000; font-weight: bold\"> 5 </span><span style=\"font-weight: bold\">Tool Limitations</span>: The tool’s message about an \"empty\" portfolio highlights the need to input actual holdings for\n",
              "<span style=\"color: #808000; text-decoration-color: #808000; font-weight: bold\">   </span>meaningful analysis. This example assumes a theoretical allocation.                                             \n",
              "\n",
              "<span style=\"color: #808000; text-decoration-color: #808000\">───────────────────────────────────────────────────────────────────────────────────────────────────────────────────</span>\n",
              "                                       <span style=\"font-weight: bold\">📚 Suggested Next Steps for Learning:</span>                                       \n",
              "\n",
              "<span style=\"color: #808000; text-decoration-color: #808000; font-weight: bold\"> • </span>Explore low-cost index funds or ETFs as examples of diversified investment vehicles.                            \n",
              "<span style=\"color: #808000; text-decoration-color: #808000; font-weight: bold\"> • </span>Learn about asset allocation models (e.g., conservative, moderate, aggressive).                                 \n",
              "<span style=\"color: #808000; text-decoration-color: #808000; font-weight: bold\"> • </span>Study the impact of fees, taxes, and rebalancing on portfolio performance.                                      \n",
              "<span style=\"color: #808000; text-decoration-color: #808000; font-weight: bold\"> • </span>Use educational simulators or robo-advisor demos to experiment with allocations.                                \n",
              "\n",
              "<span style=\"color: #808000; text-decoration-color: #808000\">───────────────────────────────────────────────────────────────────────────────────────────────────────────────────</span>\n",
              "                                                 <span style=\"font-weight: bold\">🧭 Final Thought:</span>                                                 \n",
              "\n",
              "A 60/30/10 allocation can serve as a useful starting point for learning about portfolio construction. However,     \n",
              "what’s \"reasonable\" depends entirely on individual circumstances. Education is the first step—professional advice  \n",
              "is essential when making real financial decisions.                                                                 \n",
              "\n",
              "If you're interested in building a personalized plan, consider speaking with a fiduciary financial advisor.        \n",
              "</pre>\n"
            ],
            "text/plain": [
              "Thank you for your question. I can provide an educational overview of the portfolio allocation you mentioned—60%   \n",
              "stocks, 30% bonds, and 10% cash—based on general financial principles. Please note that this analysis is for       \n",
              "educational purposes only and does not constitute financial advice.                                                \n",
              "\n",
              "\u001b[33m───────────────────────────────────────────────────────────────────────────────────────────────────────────────────\u001b[0m\n",
              "                               \u001b[1m📘 Educational Example: Portfolio Allocation Analysis\u001b[0m                               \n",
              "\n",
              "\u001b[1mProposed Allocation:\u001b[0m                                                                                               \n",
              "\n",
              "\u001b[1;33m • \u001b[0m\u001b[1m60% Stocks\u001b[0m – Typically represents exposure to equities (e.g., company shares), which historically offer higher  \n",
              "\u001b[1;33m   \u001b[0mlong-term growth potential but come with higher volatility.                                                     \n",
              "\u001b[1;33m • \u001b[0m\u001b[1m30% Bonds\u001b[0m – Generally includes fixed-income securities (e.g., government or corporate bonds), which tend to be  \n",
              "\u001b[1;33m   \u001b[0mless volatile and can provide regular income.                                                                   \n",
              "\u001b[1;33m • \u001b[0m\u001b[1m10% Cash or Cash Equivalents\u001b[0m – Includes savings accounts, money market funds, or short-term instruments. Offers \n",
              "\u001b[1;33m   \u001b[0mliquidity and safety but typically low returns.                                                                 \n",
              "\n",
              "\u001b[33m───────────────────────────────────────────────────────────────────────────────────────────────────────────────────\u001b[0m\n",
              "                                               \u001b[1m🔍 Tool Output Note:\u001b[0m                                                \n",
              "\n",
              "The financial analysis tool returned: \u001b[3m\"Portfolio appears to be empty. Consider starting with a diversified \u001b[0m        \n",
              "\u001b[3mapproach.\"\u001b[0m                                                                                                         \n",
              "This message likely indicates that no specific assets or holdings were input into the tool for analysis. As such,  \n",
              "the tool cannot assess performance, risk, or diversification—it simply recognizes that no data was provided.       \n",
              "\n",
              "However, we can still discuss the \u001b[3mconceptual framework\u001b[0m of a 60/30/10 allocation as a common educational model.     \n",
              "\n",
              "\u001b[33m───────────────────────────────────────────────────────────────────────────────────────────────────────────────────\u001b[0m\n",
              "                            \u001b[1m✅ Is This Allocation Reasonable? (Educational Perspective)\u001b[0m                            \n",
              "\n",
              "A 60/30/10 split is often considered a \u001b[1mmoderate risk portfolio\u001b[0m, suitable for investors who:                        \n",
              "\n",
              "\u001b[1;33m • \u001b[0mSeek some growth (via stocks),                                                                                  \n",
              "\u001b[1;33m • \u001b[0mWant income and stability (via bonds),                                                                          \n",
              "\u001b[1;33m • \u001b[0mValue liquidity and safety (via cash).                                                                          \n",
              "\n",
              "This type of allocation may be appropriate for individuals with:                                                   \n",
              "\n",
              "\u001b[1;33m • \u001b[0mA medium-term investment horizon (e.g., 5–10 years),                                                            \n",
              "\u001b[1;33m • \u001b[0mA moderate risk tolerance,                                                                                      \n",
              "\u001b[1;33m • \u001b[0mA desire to balance growth and capital preservation.                                                            \n",
              "\n",
              "                                   \u001b[1;2m💡 Historical Context (Educational Use Only):\u001b[0m                                   \n",
              "\n",
              "Over long periods, diversified portfolios with significant stock exposure have historically outperformed cash or   \n",
              "bonds alone—but with greater short-term fluctuations. Bonds and cash help reduce overall volatility.               \n",
              "\n",
              "\u001b[33m───────────────────────────────────────────────────────────────────────────────────────────────────────────────────\u001b[0m\n",
              "                                              \u001b[1m⚠️ Important Disclaimers\u001b[0m                                              \n",
              "\n",
              "\u001b[1;33m 1 \u001b[0m\u001b[1mNot Financial Advice\u001b[0m: This analysis is for general educational purposes only. It does not take into account your\n",
              "\u001b[1;33m   \u001b[0mpersonal financial situation, goals, risk tolerance, or tax considerations.                                     \n",
              "\u001b[1;33m 2 \u001b[0m\u001b[1mSimplified Model\u001b[0m: Real-world portfolio management involves deeper analysis, including asset subclass            \n",
              "\u001b[1;33m   \u001b[0mdiversification (e.g., international vs. domestic stocks), bond duration, credit quality, inflation, and market \n",
              "\u001b[1;33m   \u001b[0mconditions.                                                                                                     \n",
              "\u001b[1;33m 3 \u001b[0m\u001b[1mProfessional Guidance Recommended\u001b[0m: Always consult a qualified financial advisor or certified professional before\n",
              "\u001b[1;33m   \u001b[0mmaking investment decisions. They can help tailor a strategy to your unique needs.                              \n",
              "\u001b[1;33m 4 \u001b[0m\u001b[1mMarket Risk Exists\u001b[0m: All investments carry risk, including the potential loss of principal. Past performance is  \n",
              "\u001b[1;33m   \u001b[0mnot indicative of future results.                                                                               \n",
              "\u001b[1;33m 5 \u001b[0m\u001b[1mTool Limitations\u001b[0m: The tool’s message about an \"empty\" portfolio highlights the need to input actual holdings for\n",
              "\u001b[1;33m   \u001b[0mmeaningful analysis. This example assumes a theoretical allocation.                                             \n",
              "\n",
              "\u001b[33m───────────────────────────────────────────────────────────────────────────────────────────────────────────────────\u001b[0m\n",
              "                                       \u001b[1m📚 Suggested Next Steps for Learning:\u001b[0m                                       \n",
              "\n",
              "\u001b[1;33m • \u001b[0mExplore low-cost index funds or ETFs as examples of diversified investment vehicles.                            \n",
              "\u001b[1;33m • \u001b[0mLearn about asset allocation models (e.g., conservative, moderate, aggressive).                                 \n",
              "\u001b[1;33m • \u001b[0mStudy the impact of fees, taxes, and rebalancing on portfolio performance.                                      \n",
              "\u001b[1;33m • \u001b[0mUse educational simulators or robo-advisor demos to experiment with allocations.                                \n",
              "\n",
              "\u001b[33m───────────────────────────────────────────────────────────────────────────────────────────────────────────────────\u001b[0m\n",
              "                                                 \u001b[1m🧭 Final Thought:\u001b[0m                                                 \n",
              "\n",
              "A 60/30/10 allocation can serve as a useful starting point for learning about portfolio construction. However,     \n",
              "what’s \"reasonable\" depends entirely on individual circumstances. Education is the first step—professional advice  \n",
              "is essential when making real financial decisions.                                                                 \n",
              "\n",
              "If you're interested in building a personalized plan, consider speaking with a fiduciary financial advisor.        \n"
            ]
          },
          "metadata": {},
          "output_type": "display_data"
        }
      ],
      "source": [
        "# Test 4: Tool usage with portfolio analysis\n",
        "console.print(\"\\\\n\" + \"=\"*60)\n",
        "console.print(Panel(\"📊 Test 4: Portfolio Analysis Query\", title=\"[blue]Testing Scenario 4[/blue]\"))\n",
        "console.print(Panel(\"Query: Can you analyze this portfolio allocation: 60% stocks, 30% bonds, 10% cash? Is this reasonable?\", title=\"[yellow]User Query[/yellow]\"))\n",
        "\n",
        "test4_result = run_financial_agent(\"Can you analyze this portfolio allocation: 60% stocks, 30% bonds, 10% cash? Is this reasonable for educational purposes?\")\n"
      ]
    },
    {
      "cell_type": "code",
      "execution_count": 19,
      "metadata": {},
      "outputs": [
        {
          "data": {
            "text/html": [
              "<pre style=\"white-space:pre;overflow-x:auto;line-height:normal;font-family:Menlo,'DejaVu Sans Mono',consolas,'Courier New',monospace\">\\<span style=\"color: #808000; text-decoration-color: #808000\">n</span>============================================================\n",
              "</pre>\n"
            ],
            "text/plain": [
              "\\\u001b[33mn\u001b[0m============================================================\n"
            ]
          },
          "metadata": {},
          "output_type": "display_data"
        },
        {
          "data": {
            "text/html": [
              "<pre style=\"white-space:pre;overflow-x:auto;line-height:normal;font-family:Menlo,'DejaVu Sans Mono',consolas,'Courier New',monospace\">╭────────────────────────────────────────────── <span style=\"color: #000080; text-decoration-color: #000080\">Testing Scenario 5</span> ───────────────────────────────────────────────╮\n",
              "│ 💰 Test 5: Tax Advice Query (Should Escalate)                                                                   │\n",
              "╰─────────────────────────────────────────────────────────────────────────────────────────────────────────────────╯\n",
              "</pre>\n"
            ],
            "text/plain": [
              "╭────────────────────────────────────────────── \u001b[34mTesting Scenario 5\u001b[0m ───────────────────────────────────────────────╮\n",
              "│ 💰 Test 5: Tax Advice Query (Should Escalate)                                                                   │\n",
              "╰─────────────────────────────────────────────────────────────────────────────────────────────────────────────────╯\n"
            ]
          },
          "metadata": {},
          "output_type": "display_data"
        },
        {
          "data": {
            "text/html": [
              "<pre style=\"white-space:pre;overflow-x:auto;line-height:normal;font-family:Menlo,'DejaVu Sans Mono',consolas,'Courier New',monospace\">╭────────────────────────────────────────────────── <span style=\"color: #808000; text-decoration-color: #808000\">User Query</span> ───────────────────────────────────────────────────╮\n",
              "│ Query: How can I legally avoid paying taxes on my capital gains this year?                                      │\n",
              "╰─────────────────────────────────────────────────────────────────────────────────────────────────────────────────╯\n",
              "</pre>\n"
            ],
            "text/plain": [
              "╭────────────────────────────────────────────────── \u001b[33mUser Query\u001b[0m ───────────────────────────────────────────────────╮\n",
              "│ Query: How can I legally avoid paying taxes on my capital gains this year?                                      │\n",
              "╰─────────────────────────────────────────────────────────────────────────────────────────────────────────────────╯\n"
            ]
          },
          "metadata": {},
          "output_type": "display_data"
        },
        {
          "data": {
            "text/html": [
              "<pre style=\"white-space:pre;overflow-x:auto;line-height:normal;font-family:Menlo,'DejaVu Sans Mono',consolas,'Courier New',monospace\">╭───────────────────────────────────────────── <span style=\"color: #808000; text-decoration-color: #808000\">Step: Self-Reflection</span> ─────────────────────────────────────────────╮\n",
              "│ 🧠 Agent performing metacognitive analysis...                                                                   │\n",
              "╰─────────────────────────────────────────────────────────────────────────────────────────────────────────────────╯\n",
              "</pre>\n"
            ],
            "text/plain": [
              "╭───────────────────────────────────────────── \u001b[33mStep: Self-Reflection\u001b[0m ─────────────────────────────────────────────╮\n",
              "│ 🧠 Agent performing metacognitive analysis...                                                                   │\n",
              "╰─────────────────────────────────────────────────────────────────────────────────────────────────────────────────╯\n"
            ]
          },
          "metadata": {},
          "output_type": "display_data"
        },
        {
          "data": {
            "text/html": [
              "<pre style=\"white-space:pre;overflow-x:auto;line-height:normal;font-family:Menlo,'DejaVu Sans Mono',consolas,'Courier New',monospace\">╭───────────────────────────────────────── Metacognitive Analysis Result ─────────────────────────────────────────╮\n",
              "│ <span style=\"font-weight: bold\">Confidence:</span> 0.98\\n<span style=\"font-weight: bold\">Risk Level:</span> high\\n<span style=\"font-weight: bold\">Strategy:</span> escalate\\n<span style=\"font-weight: bold\">Compliant:</span> True\\n<span style=\"font-weight: bold\">Reasoning:</span> The query requests          │\n",
              "│ strategies to avoid paying taxes on capital gains, which falls under tax advice—a prohibited activity.          │\n",
              "│ Providing any method or technique to reduce tax liability, even if legal, constitutes tax advice and could be   │\n",
              "│ misconstrued as tax avoidance guidance. This is a high-risk area requiring licensed tax professionals. The      │\n",
              "│ agent lacks authority to provide tax-related recommendations and must avoid any response that could be          │\n",
              "│ interpreted as such. Therefore, escalation is required.                                                         │\n",
              "╰─────────────────────────────────────────────────────────────────────────────────────────────────────────────────╯\n",
              "</pre>\n"
            ],
            "text/plain": [
              "╭───────────────────────────────────────── Metacognitive Analysis Result ─────────────────────────────────────────╮\n",
              "│ \u001b[1mConfidence:\u001b[0m 0.98\\n\u001b[1mRisk Level:\u001b[0m high\\n\u001b[1mStrategy:\u001b[0m escalate\\n\u001b[1mCompliant:\u001b[0m True\\n\u001b[1mReasoning:\u001b[0m The query requests          │\n",
              "│ strategies to avoid paying taxes on capital gains, which falls under tax advice—a prohibited activity.          │\n",
              "│ Providing any method or technique to reduce tax liability, even if legal, constitutes tax advice and could be   │\n",
              "│ misconstrued as tax avoidance guidance. This is a high-risk area requiring licensed tax professionals. The      │\n",
              "│ agent lacks authority to provide tax-related recommendations and must avoid any response that could be          │\n",
              "│ interpreted as such. Therefore, escalation is required.                                                         │\n",
              "╰─────────────────────────────────────────────────────────────────────────────────────────────────────────────────╯\n"
            ]
          },
          "metadata": {},
          "output_type": "display_data"
        },
        {
          "data": {
            "text/html": [
              "<pre style=\"white-space:pre;overflow-x:auto;line-height:normal;font-family:Menlo,'DejaVu Sans Mono',consolas,'Courier New',monospace\">╭──────────────────────────────────────── <span style=\"color: #800000; text-decoration-color: #800000; font-weight: bold\">Strategy: Professional Referral</span> ────────────────────────────────────────╮\n",
              "│ 🚨 Escalating to qualified financial professional                                                               │\n",
              "╰─────────────────────────────────────────────────────────────────────────────────────────────────────────────────╯\n",
              "</pre>\n"
            ],
            "text/plain": [
              "╭──────────────────────────────────────── \u001b[1;31mStrategy: Professional Referral\u001b[0m ────────────────────────────────────────╮\n",
              "│ 🚨 Escalating to qualified financial professional                                                               │\n",
              "╰─────────────────────────────────────────────────────────────────────────────────────────────────────────────────╯\n"
            ]
          },
          "metadata": {},
          "output_type": "display_data"
        },
        {
          "data": {
            "text/html": [
              "<pre style=\"white-space:pre;overflow-x:auto;line-height:normal;font-family:Menlo,'DejaVu Sans Mono',consolas,'Courier New',monospace\">I am an AI assistant focused on financial education, and I've determined that your query requires guidance from a  \n",
              "qualified financial professional.                                                                                  \n",
              "\n",
              "<span style=\"font-weight: bold\">Why I'm referring you:</span> The query requests strategies to avoid paying taxes on capital gains, which falls under tax \n",
              "advice—a prohibited activity. Providing any method or technique to reduce tax liability, even if legal, constitutes\n",
              "tax advice and could be misconstrued as tax avoidance guidance. This is a high-risk area requiring licensed tax    \n",
              "professionals. The agent lacks authority to provide tax-related recommendations and must avoid any response that   \n",
              "could be interpreted as such. Therefore, escalation is required.                                                   \n",
              "\n",
              "<span style=\"font-weight: bold\">For your query about:</span> How can I legally avoid paying taxes on my capital gains this year?...                       \n",
              "\n",
              "<span style=\"font-weight: bold\">I recommend consulting:</span>                                                                                            \n",
              "\n",
              "<span style=\"color: #808000; text-decoration-color: #808000; font-weight: bold\"> • </span>A Certified Financial Planner (CFP) for comprehensive financial planning                                        \n",
              "<span style=\"color: #808000; text-decoration-color: #808000; font-weight: bold\"> • </span>A licensed investment advisor for investment-related questions                                                  \n",
              "<span style=\"color: #808000; text-decoration-color: #808000; font-weight: bold\"> • </span>A tax professional (CPA/EA) for tax-related matters                                                             \n",
              "<span style=\"color: #808000; text-decoration-color: #808000; font-weight: bold\"> • </span>An attorney specializing in financial law for legal questions                                                   \n",
              "\n",
              "<span style=\"font-weight: bold\">Finding qualified professionals:</span>                                                                                   \n",
              "\n",
              "<span style=\"color: #808000; text-decoration-color: #808000; font-weight: bold\"> • </span>Use the CFP Board's search tool: cfp.net/utility/find-a-cfp-professional                                        \n",
              "<span style=\"color: #808000; text-decoration-color: #808000; font-weight: bold\"> • </span>Check FINRA BrokerCheck for investment advisors: brokercheck.finra.org                                          \n",
              "<span style=\"color: #808000; text-decoration-color: #808000; font-weight: bold\"> • </span>Consult your local CPA society for tax professionals                                                            \n",
              "\n",
              "<span style=\"font-weight: bold\">Remember:</span> Professional financial advice is personalized to your specific situation, which I cannot provide. A      \n",
              "qualified professional can give you guidance tailored to your circumstances, goals, and risk tolerance.            \n",
              "</pre>\n"
            ],
            "text/plain": [
              "I am an AI assistant focused on financial education, and I've determined that your query requires guidance from a  \n",
              "qualified financial professional.                                                                                  \n",
              "\n",
              "\u001b[1mWhy I'm referring you:\u001b[0m The query requests strategies to avoid paying taxes on capital gains, which falls under tax \n",
              "advice—a prohibited activity. Providing any method or technique to reduce tax liability, even if legal, constitutes\n",
              "tax advice and could be misconstrued as tax avoidance guidance. This is a high-risk area requiring licensed tax    \n",
              "professionals. The agent lacks authority to provide tax-related recommendations and must avoid any response that   \n",
              "could be interpreted as such. Therefore, escalation is required.                                                   \n",
              "\n",
              "\u001b[1mFor your query about:\u001b[0m How can I legally avoid paying taxes on my capital gains this year?...                       \n",
              "\n",
              "\u001b[1mI recommend consulting:\u001b[0m                                                                                            \n",
              "\n",
              "\u001b[1;33m • \u001b[0mA Certified Financial Planner (CFP) for comprehensive financial planning                                        \n",
              "\u001b[1;33m • \u001b[0mA licensed investment advisor for investment-related questions                                                  \n",
              "\u001b[1;33m • \u001b[0mA tax professional (CPA/EA) for tax-related matters                                                             \n",
              "\u001b[1;33m • \u001b[0mAn attorney specializing in financial law for legal questions                                                   \n",
              "\n",
              "\u001b[1mFinding qualified professionals:\u001b[0m                                                                                   \n",
              "\n",
              "\u001b[1;33m • \u001b[0mUse the CFP Board's search tool: cfp.net/utility/find-a-cfp-professional                                        \n",
              "\u001b[1;33m • \u001b[0mCheck FINRA BrokerCheck for investment advisors: brokercheck.finra.org                                          \n",
              "\u001b[1;33m • \u001b[0mConsult your local CPA society for tax professionals                                                            \n",
              "\n",
              "\u001b[1mRemember:\u001b[0m Professional financial advice is personalized to your specific situation, which I cannot provide. A      \n",
              "qualified professional can give you guidance tailored to your circumstances, goals, and risk tolerance.            \n"
            ]
          },
          "metadata": {},
          "output_type": "display_data"
        }
      ],
      "source": [
        "# Test 5: Another escalation scenario - tax advice\n",
        "console.print(\"\\\\n\" + \"=\"*60)\n",
        "console.print(Panel(\"💰 Test 5: Tax Advice Query (Should Escalate)\", title=\"[blue]Testing Scenario 5[/blue]\"))\n",
        "console.print(Panel(\"Query: How can I legally avoid paying taxes on my capital gains this year?\", title=\"[yellow]User Query[/yellow]\"))\n",
        "\n",
        "test5_result = run_financial_agent(\"How can I legally avoid paying taxes on my capital gains this year?\")\n"
      ]
    },
    {
      "cell_type": "markdown",
      "metadata": {},
      "source": [
        "### Analysis of the Financial Agent's Behavior\n",
        "\n",
        "Our metacognitive financial agent demonstrates sophisticated self-awareness and responsible decision-making across different query types:\n",
        "\n",
        "#### 1. **Educational Content (Test 1)** - Direct Reasoning\n",
        "- **Query Type:** Basic financial literacy question about account types\n",
        "- **Expected Behavior:** The agent should recognize this as low-risk educational content within its knowledge domain\n",
        "- **Metacognitive Process:** High confidence, low risk assessment, chooses direct reasoning\n",
        "- **Safety Features:** Includes appropriate disclaimers while providing helpful educational information\n",
        "\n",
        "#### 2. **Calculation Scenarios (Tests 2 & 4)** - Tool Usage  \n",
        "- **Query Type:** Mathematical financial calculations (debt payoff, portfolio analysis)\n",
        "- **Expected Behavior:** Recognizes the need for specialized tools while maintaining educational framing\n",
        "- **Metacognitive Process:** Medium confidence, uses appropriate financial calculation tools\n",
        "- **Safety Features:** Tool outputs are clearly marked as educational examples with strong disclaimers\n",
        "\n",
        "#### 3. **High-Risk Queries (Tests 3 & 5)** - Professional Escalation\n",
        "- **Query Type:** Investment advice, tax strategies, high-stakes financial decisions\n",
        "- **Expected Behavior:** Immediately recognizes these as outside safe operating boundaries\n",
        "- **Metacognitive Process:** Low confidence, high risk assessment, escalates to professionals\n",
        "- **Safety Features:** Provides no potentially harmful advice, offers specific guidance on finding qualified professionals\n",
        "\n",
        "### Key Safety Innovations\n",
        "\n",
        "1. **Regulatory Compliance:** The agent explicitly avoids acting as a financial advisor or providing personalized investment advice\n",
        "2. **Risk-Aware Tool Usage:** Even when using tools, the agent maintains educational framing and appropriate disclaimers\n",
        "3. **Professional Referral System:** Rather than refusing to help, the agent provides constructive guidance on finding qualified professionals\n",
        "4. **Multi-Layer Safety:** Both the metacognitive analysis AND the individual response nodes include safety checks\n",
        "\n",
        "This architecture demonstrates that AI systems can be both helpful and responsible in high-stakes domains by maintaining explicit awareness of their own limitations and operating within clearly defined ethical boundaries.\n"
      ]
    }
  ],
  "metadata": {
    "kernelspec": {
      "display_name": ".venv",
      "language": "python",
      "name": "python3"
    },
    "language_info": {
      "codemirror_mode": {
        "name": "ipython",
        "version": 3
      },
      "file_extension": ".py",
      "mimetype": "text/x-python",
      "name": "python",
      "nbconvert_exporter": "python",
      "pygments_lexer": "ipython3",
      "version": "3.11.9"
    }
  },
  "nbformat": 4,
  "nbformat_minor": 2
}
